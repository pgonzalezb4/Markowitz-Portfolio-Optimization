{
 "cells": [
  {
   "cell_type": "markdown",
   "metadata": {},
   "source": [
    "# Importar librerias"
   ]
  },
  {
   "cell_type": "markdown",
   "metadata": {},
   "source": [
    "Importar librerias necesarias para manipular datos, realizar gráficos, hacer web scraping sobre el stock screener de las acciones en las que deseamos invertir y por supuesto, la libreria necesaria para formular el problema de optimización convexa y resolverlo."
   ]
  },
  {
   "cell_type": "code",
   "execution_count": 3,
   "metadata": {},
   "outputs": [],
   "source": [
    "import pandas_datareader.data as web\n",
    "import datetime as dt\n",
    "import pandas as pd\n",
    "import matplotlib.pyplot as plt\n",
    "from matplotlib import style\n",
    "import numpy as np\n",
    "import scipy.sparse as sp\n",
    "\n",
    "from bs4 import BeautifulSoup\n",
    "from yahoo_fin.stock_info import get_data"
   ]
  },
  {
   "cell_type": "markdown",
   "metadata": {},
   "source": [
    "# Web scraping y creación de conjunto de datos"
   ]
  },
  {
   "cell_type": "markdown",
   "metadata": {},
   "source": [
    "En esta sección se realizo web scraping para extraer los tickers de las empresas en las que deseamos invertir. Estas empresas se filtraron de manera que estuvieran en el sector de tecnología y tuvieran una capitalización bursátil grande (más de USD $10B).\n",
    "\n",
    "Únicamente se tuvieron en cuenta las empresas que tenian datos desde 2011-7-2 hasta 2021-7-2, quedando asi con 103 tickers de los 195 que había originalmente en el stock screener: [Yahoo Finance Stock Screener](https://tinyurl.com/StockScreenerYF)."
   ]
  },
  {
   "cell_type": "code",
   "execution_count": 4,
   "metadata": {},
   "outputs": [],
   "source": [
    "tickers = []\n",
    "\n",
    "with open('yahoofinance1.html', 'r',  encoding=\"utf8\") as html_file:\n",
    "    content = html_file.read()\n",
    "    soup = BeautifulSoup(content, 'lxml')\n",
    "    ticker_tags = soup.find_all('a', attrs={'data-test' : 'quoteLink'})\n",
    "    for tag in ticker_tags:\n",
    "        tickers.append(tag.text)\n",
    "\n",
    "with open('yahoofinance2.html', 'r',  encoding=\"utf8\") as html_file:\n",
    "    content = html_file.read()\n",
    "    soup = BeautifulSoup(content, 'lxml')\n",
    "    ticker_tags = soup.find_all('a', attrs={'data-test' : 'quoteLink'})\n",
    "    for tag in ticker_tags:\n",
    "        tickers.append(tag.text)   \n",
    "        \n",
    "tickers = ['SPYG', 'QQQ', 'VUG', 'IYW', 'VOO', 'VTI', 'SCHG', 'VGT']\n",
    "\n",
    "start = dt.datetime(2013, 1, 1)\n",
    "end = dt.datetime(2021, 7, 13)\n",
    "\n",
    "dataset = pd.DataFrame()\n",
    "\n",
    "for ticker in tickers:\n",
    "    data = get_data(ticker, start_date=start, end_date=end)\n",
    "    data[ticker] = data['adjclose']\n",
    "    \n",
    "    if dataset.empty:\n",
    "        dataset = data[[ticker]]\n",
    "    else:\n",
    "        dataset = dataset.join(data[[ticker]], how = 'outer')\n",
    "\n",
    "dataset = dataset.dropna(axis='columns')"
   ]
  },
  {
   "cell_type": "markdown",
   "metadata": {},
   "source": [
    "# Análisis exploratorio del conjunto de datos"
   ]
  },
  {
   "cell_type": "markdown",
   "metadata": {},
   "source": [
    "En esta sección se van a observar ciertas características del conjunto de datos."
   ]
  },
  {
   "cell_type": "markdown",
   "metadata": {},
   "source": [
    "A continuación mostramos una previsualización de como luce el conjunto de datos:"
   ]
  },
  {
   "cell_type": "code",
   "execution_count": null,
   "metadata": {},
   "outputs": [],
   "source": [
    "dataset"
   ]
  },
  {
   "cell_type": "code",
   "execution_count": null,
   "metadata": {},
   "outputs": [],
   "source": [
    "print(\"Número de columnas:\", len(dataset.columns))"
   ]
  },
  {
   "cell_type": "markdown",
   "metadata": {},
   "source": [
    "Acá observamos un ejemplo de como es la visualización de una de las acciones que vamos a incluir en el portafolio. Esta acción 'FIS' corresponde a la primera que sale en el conjunto de datos anterior. Se puede obtener una visualización igual para cada una de las columnas del conjunto de datos que tenemos, en este caso estamos graficando la primera columna que corresponde a la acción 'FIS'."
   ]
  },
  {
   "cell_type": "code",
   "execution_count": null,
   "metadata": {},
   "outputs": [],
   "source": [
    "plt.figure(figsize=(12, 5))\n",
    "plt.plot(dataset.iloc[:, 3])\n",
    "plt.title(\"Precio histórico de {}\".format(dataset.columns[3]))\n",
    "plt.show()"
   ]
  },
  {
   "cell_type": "markdown",
   "metadata": {},
   "source": [
    "# Formulación del problema"
   ]
  },
  {
   "cell_type": "markdown",
   "metadata": {},
   "source": [
    "A continuación vamos a definir que significa cada variable del problema de optimización a resolver:"
   ]
  },
  {
   "cell_type": "markdown",
   "metadata": {},
   "source": [
    "- $n :$ numero de activos en el portafolio.\n",
    "- $T :$ periodo de tiempo durante el cual compro/vendo los activos de mi portafolio.\n",
    "- $p_i = \\frac{s_1^{(i)}}{s_0^{(i)}} :$ cambio de precio relativo del activo $i$ durante el periodo $T$, donde $s_0^{(i)}$ es el precio inicial y $s_1^{(i)}$ es el precio al final del periodo $T$.\n",
    "- $w \\in \\textbf{R}^n :$ vector que tiene los pesos que se le asignan a cada activo del portafolio.\n",
    "  Se le asigna el peso $w_i$ al activo $i$ para $i=1, 2, ..., n$.\n",
    "- $x_i :$ cantidad de acciones compradas/vendidas del activo $i$.\n",
    "- $\\sum_{i=1}^n x_i :$ capital total disponible.\n",
    "- $r_i=p_ix_i :$ retorno del activo $i$.\n",
    "- $r = p^Tx :$ retorno total de portafolio.\n",
    "- $\\overline{r} = \\overline{p}^Tx :$ media del vector $r$ (promedio de los retornos).\n",
    "- $E(p) = \\overline{p} :$ media del vector $p$\n",
    "- $E((p-\\overline{p})(p-\\overline{p})^T) = \\Sigma :$ matriz de varianzas y covarianzas de los cambios de precio relativos de los activos.\n",
    "- $\\sigma_r^2 = x^T\\Sigma x :$ varianza de los retornos del portafolio (riesgo de los retornos).\n",
    "- Todos los pesos del portafolio deben sumar uno, esto es $\\textbf{1}^Tw=1$.\n"
   ]
  },
  {
   "cell_type": "markdown",
   "metadata": {},
   "source": [
    "Para este problema básicamente buscamos dos objetivos: minimizar el riesgo y maximizar las ganancias del portafolio, esto lo logramos asignando los pesos del vector $w$ de manera estratégica teniendo en cuenta que los retornos de cada activo no son los mismos, es decir hay activos que a la fecha han tenido un retorno mayor o menor respecto a otros y con caídas de mayor o menor porcentaje respecto a otros activos. "
   ]
  },
  {
   "cell_type": "markdown",
   "metadata": {},
   "source": [
    "$$\n",
    "\\begin{array}{cr}\n",
    "\\mbox{minimizar}     & w^T\\Sigma w \\\\\n",
    "\\mbox{sujeto a}     & \\textbf{1}^Tw=1, \\\\\n",
    "& \\overline{p}^Tw \\geq r_{\\text{min}}, \\\\\n",
    "& w \\geq 0\\\\\n",
    "\\end{array} \\\\\n",
    "$$"
   ]
  },
  {
   "cell_type": "markdown",
   "metadata": {},
   "source": [
    "donde $w^T\\Sigma w$ es el riesgo del portafolio."
   ]
  },
  {
   "cell_type": "markdown",
   "metadata": {},
   "source": [
    "# Solución del problema"
   ]
  },
  {
   "cell_type": "markdown",
   "metadata": {},
   "source": [
    "Para solucionar este problema podemos utilizar el **método de Lagrange** visto en clase en el capítulo de Dualidad, entonces definimos el **Lagrangiano** como:"
   ]
  },
  {
   "cell_type": "markdown",
   "metadata": {},
   "source": [
    "$$\n",
    "L(w, \\lambda, \\nu) = w^T\\Sigma w - \\lambda w - \\nu(\\textbf{1}^Tw-1)\n",
    "$$"
   ]
  },
  {
   "cell_type": "markdown",
   "metadata": {},
   "source": [
    "Por lo tanto la **función dual de Lagrange** queda definida como:"
   ]
  },
  {
   "cell_type": "markdown",
   "metadata": {},
   "source": [
    "$$\n",
    "g(\\lambda, \\nu)=\\text{inf}_wL(w, \\lambda, \\nu)\n",
    "$$"
   ]
  },
  {
   "cell_type": "markdown",
   "metadata": {},
   "source": [
    "Para hallar este ínfimo, calculamos el vector gradiente de $L(w, \\lambda, \\nu)$ y lo igualamos a $0$:"
   ]
  },
  {
   "cell_type": "markdown",
   "metadata": {},
   "source": [
    "$$\n",
    "\\frac{\\partial L}{\\partial w} = 2\\gamma\\Sigma w - \\lambda - \\nu\\textbf{1} = 0, \\\\\n",
    "\\implies \\Sigma w = \\frac{1}{2\\gamma}(\\lambda + \\nu\\textbf{1})\n",
    "$$"
   ]
  },
  {
   "cell_type": "markdown",
   "metadata": {},
   "source": [
    "Si asumimos que la matriz $\\Sigma$ es definida positiva (esto es, que los activos en el portafolio **no** están perfectamente correlacionados), entonces:"
   ]
  },
  {
   "cell_type": "markdown",
   "metadata": {},
   "source": [
    "$$\n",
    "w^*=\\frac{1}{2\\gamma}\\Sigma^{-1}(\\lambda + \\nu\\textbf{1})\n",
    "$$"
   ]
  },
  {
   "cell_type": "markdown",
   "metadata": {},
   "source": [
    "# Solución computacional"
   ]
  },
  {
   "cell_type": "markdown",
   "metadata": {},
   "source": [
    "En este caso vamos a utilizar al paquete <code>cvxpy</code> para solucionar el problema de optimización convexo."
   ]
  },
  {
   "cell_type": "code",
   "execution_count": 5,
   "metadata": {},
   "outputs": [
    {
     "ename": "RuntimeError",
     "evalue": "module compiled against API version 0xe but this version of numpy is 0xd",
     "output_type": "error",
     "traceback": [
      "\u001b[0;31m---------------------------------------------------------------------------\u001b[0m",
      "\u001b[0;31mRuntimeError\u001b[0m                              Traceback (most recent call last)",
      "\u001b[0;31mRuntimeError\u001b[0m: module compiled against API version 0xe but this version of numpy is 0xd"
     ]
    },
    {
     "ename": "RuntimeError",
     "evalue": "module compiled against API version 0xe but this version of numpy is 0xd",
     "output_type": "error",
     "traceback": [
      "\u001b[0;31m---------------------------------------------------------------------------\u001b[0m",
      "\u001b[0;31mRuntimeError\u001b[0m                              Traceback (most recent call last)",
      "\u001b[0;31mRuntimeError\u001b[0m: module compiled against API version 0xe but this version of numpy is 0xd"
     ]
    }
   ],
   "source": [
    "import cvxpy as cp"
   ]
  },
  {
   "cell_type": "markdown",
   "metadata": {},
   "source": [
    "Recordemos que ya tenemos nuestro conjunto de datos <code>dataset</code>:"
   ]
  },
  {
   "cell_type": "code",
   "execution_count": null,
   "metadata": {},
   "outputs": [],
   "source": [
    "dataset"
   ]
  },
  {
   "cell_type": "markdown",
   "metadata": {},
   "source": [
    "Creamos el conjunto de datos <code>returns</code> a partir de nuestro conjunto de datos original."
   ]
  },
  {
   "cell_type": "code",
   "execution_count": 6,
   "metadata": {},
   "outputs": [
    {
     "data": {
      "text/html": [
       "<div>\n",
       "<style scoped>\n",
       "    .dataframe tbody tr th:only-of-type {\n",
       "        vertical-align: middle;\n",
       "    }\n",
       "\n",
       "    .dataframe tbody tr th {\n",
       "        vertical-align: top;\n",
       "    }\n",
       "\n",
       "    .dataframe thead th {\n",
       "        text-align: right;\n",
       "    }\n",
       "</style>\n",
       "<table border=\"1\" class=\"dataframe\">\n",
       "  <thead>\n",
       "    <tr style=\"text-align: right;\">\n",
       "      <th></th>\n",
       "      <th>SPYG</th>\n",
       "      <th>QQQ</th>\n",
       "      <th>VUG</th>\n",
       "      <th>IYW</th>\n",
       "      <th>VOO</th>\n",
       "      <th>VTI</th>\n",
       "      <th>SCHG</th>\n",
       "      <th>VGT</th>\n",
       "    </tr>\n",
       "  </thead>\n",
       "  <tbody>\n",
       "    <tr>\n",
       "      <th>2013-01-03</th>\n",
       "      <td>-0.003427</td>\n",
       "      <td>-0.005221</td>\n",
       "      <td>-0.002879</td>\n",
       "      <td>-0.007293</td>\n",
       "      <td>-0.000899</td>\n",
       "      <td>-0.001465</td>\n",
       "      <td>-0.001712</td>\n",
       "      <td>-0.005913</td>\n",
       "    </tr>\n",
       "    <tr>\n",
       "      <th>2013-01-04</th>\n",
       "      <td>0.002980</td>\n",
       "      <td>-0.003297</td>\n",
       "      <td>0.003289</td>\n",
       "      <td>-0.007068</td>\n",
       "      <td>0.004187</td>\n",
       "      <td>0.005052</td>\n",
       "      <td>0.003421</td>\n",
       "      <td>-0.004387</td>\n",
       "    </tr>\n",
       "    <tr>\n",
       "      <th>2013-01-07</th>\n",
       "      <td>-0.002234</td>\n",
       "      <td>0.000301</td>\n",
       "      <td>-0.001918</td>\n",
       "      <td>-0.001809</td>\n",
       "      <td>-0.002689</td>\n",
       "      <td>-0.002656</td>\n",
       "      <td>-0.001709</td>\n",
       "      <td>-0.001561</td>\n",
       "    </tr>\n",
       "    <tr>\n",
       "      <th>2013-01-08</th>\n",
       "      <td>-0.001193</td>\n",
       "      <td>-0.001952</td>\n",
       "      <td>-0.002058</td>\n",
       "      <td>-0.003350</td>\n",
       "      <td>-0.002997</td>\n",
       "      <td>-0.002663</td>\n",
       "      <td>-0.001426</td>\n",
       "      <td>-0.002560</td>\n",
       "    </tr>\n",
       "    <tr>\n",
       "      <th>2013-01-09</th>\n",
       "      <td>0.001939</td>\n",
       "      <td>0.003751</td>\n",
       "      <td>0.003703</td>\n",
       "      <td>0.002514</td>\n",
       "      <td>0.002997</td>\n",
       "      <td>0.003062</td>\n",
       "      <td>0.004274</td>\n",
       "      <td>0.003412</td>\n",
       "    </tr>\n",
       "    <tr>\n",
       "      <th>...</th>\n",
       "      <td>...</td>\n",
       "      <td>...</td>\n",
       "      <td>...</td>\n",
       "      <td>...</td>\n",
       "      <td>...</td>\n",
       "      <td>...</td>\n",
       "      <td>...</td>\n",
       "      <td>...</td>\n",
       "    </tr>\n",
       "    <tr>\n",
       "      <th>2021-07-06</th>\n",
       "      <td>0.005453</td>\n",
       "      <td>0.004313</td>\n",
       "      <td>0.006245</td>\n",
       "      <td>0.005147</td>\n",
       "      <td>-0.001883</td>\n",
       "      <td>-0.002178</td>\n",
       "      <td>0.007393</td>\n",
       "      <td>0.004942</td>\n",
       "    </tr>\n",
       "    <tr>\n",
       "      <th>2021-07-07</th>\n",
       "      <td>0.004650</td>\n",
       "      <td>0.002108</td>\n",
       "      <td>0.001914</td>\n",
       "      <td>0.002169</td>\n",
       "      <td>0.003436</td>\n",
       "      <td>0.001334</td>\n",
       "      <td>0.003743</td>\n",
       "      <td>0.003838</td>\n",
       "    </tr>\n",
       "    <tr>\n",
       "      <th>2021-07-08</th>\n",
       "      <td>-0.006672</td>\n",
       "      <td>-0.006058</td>\n",
       "      <td>-0.007196</td>\n",
       "      <td>-0.009601</td>\n",
       "      <td>-0.007994</td>\n",
       "      <td>-0.008477</td>\n",
       "      <td>-0.007903</td>\n",
       "      <td>-0.009796</td>\n",
       "    </tr>\n",
       "    <tr>\n",
       "      <th>2021-07-09</th>\n",
       "      <td>0.006518</td>\n",
       "      <td>0.006224</td>\n",
       "      <td>0.007776</td>\n",
       "      <td>0.008319</td>\n",
       "      <td>0.010495</td>\n",
       "      <td>0.012025</td>\n",
       "      <td>0.007502</td>\n",
       "      <td>0.009403</td>\n",
       "    </tr>\n",
       "    <tr>\n",
       "      <th>2021-07-12</th>\n",
       "      <td>0.003397</td>\n",
       "      <td>0.003898</td>\n",
       "      <td>0.002182</td>\n",
       "      <td>0.000986</td>\n",
       "      <td>0.003615</td>\n",
       "      <td>0.002785</td>\n",
       "      <td>0.001534</td>\n",
       "      <td>-0.000098</td>\n",
       "    </tr>\n",
       "  </tbody>\n",
       "</table>\n",
       "<p>2145 rows × 8 columns</p>\n",
       "</div>"
      ],
      "text/plain": [
       "                SPYG       QQQ       VUG       IYW       VOO       VTI  \\\n",
       "2013-01-03 -0.003427 -0.005221 -0.002879 -0.007293 -0.000899 -0.001465   \n",
       "2013-01-04  0.002980 -0.003297  0.003289 -0.007068  0.004187  0.005052   \n",
       "2013-01-07 -0.002234  0.000301 -0.001918 -0.001809 -0.002689 -0.002656   \n",
       "2013-01-08 -0.001193 -0.001952 -0.002058 -0.003350 -0.002997 -0.002663   \n",
       "2013-01-09  0.001939  0.003751  0.003703  0.002514  0.002997  0.003062   \n",
       "...              ...       ...       ...       ...       ...       ...   \n",
       "2021-07-06  0.005453  0.004313  0.006245  0.005147 -0.001883 -0.002178   \n",
       "2021-07-07  0.004650  0.002108  0.001914  0.002169  0.003436  0.001334   \n",
       "2021-07-08 -0.006672 -0.006058 -0.007196 -0.009601 -0.007994 -0.008477   \n",
       "2021-07-09  0.006518  0.006224  0.007776  0.008319  0.010495  0.012025   \n",
       "2021-07-12  0.003397  0.003898  0.002182  0.000986  0.003615  0.002785   \n",
       "\n",
       "                SCHG       VGT  \n",
       "2013-01-03 -0.001712 -0.005913  \n",
       "2013-01-04  0.003421 -0.004387  \n",
       "2013-01-07 -0.001709 -0.001561  \n",
       "2013-01-08 -0.001426 -0.002560  \n",
       "2013-01-09  0.004274  0.003412  \n",
       "...              ...       ...  \n",
       "2021-07-06  0.007393  0.004942  \n",
       "2021-07-07  0.003743  0.003838  \n",
       "2021-07-08 -0.007903 -0.009796  \n",
       "2021-07-09  0.007502  0.009403  \n",
       "2021-07-12  0.001534 -0.000098  \n",
       "\n",
       "[2145 rows x 8 columns]"
      ]
     },
     "execution_count": 6,
     "metadata": {},
     "output_type": "execute_result"
    }
   ],
   "source": [
    "returns = dataset/dataset.shift(1)\n",
    "returns.dropna(inplace=True)\n",
    "returns = np.log(returns)\n",
    "returns"
   ]
  },
  {
   "cell_type": "markdown",
   "metadata": {},
   "source": [
    "Ahora definimos el vector $\\overline{p}$ y la matriz de varianzas y covarianzas $\\Sigma:$"
   ]
  },
  {
   "cell_type": "code",
   "execution_count": 7,
   "metadata": {},
   "outputs": [],
   "source": [
    "pBar = np.asarray(np.mean(returns.to_numpy().T, axis=1))\n",
    "Sigma = np.asmatrix(np.cov(returns.to_numpy().T))\n",
    "rMin = 0.0008 # Debe ser menor a np.max(pBar)"
   ]
  },
  {
   "cell_type": "markdown",
   "metadata": {},
   "source": [
    "$$\n",
    "\\begin{array}{cr}\n",
    "\\mbox{minimizar}     & w^T\\Sigma w \\\\\n",
    "\\mbox{sujeto a}     & \\textbf{1}^Tw=1, \\\\\n",
    "& \\overline{p}^Tw \\geq r_{\\text{min}}, \\\\\n",
    "& w \\geq 0\\\\\n",
    "\\end{array} \\\\\n",
    "$$\n",
    "Entonces, calculamos el punto óptimo de nuestro problema de optimización con la libreria <code>cvxpy</code> teniendo en cuenta las restricciones de que los pesos deben sumar 1 y queremos un portafolio en el que **unicamente compramos**: "
   ]
  },
  {
   "cell_type": "code",
   "execution_count": 8,
   "metadata": {},
   "outputs": [],
   "source": [
    "n = len(returns.columns)\n",
    "\n",
    "w = cp.Variable(n)\n",
    "risk = cp.quad_form(w, Sigma)\n",
    "\n",
    "constraints = [pBar.T @ w >= rMin, cp.sum(w) == 1, w >= 0]\n",
    "prob = cp.Problem(cp.Minimize(risk), \n",
    "                  constraints)"
   ]
  },
  {
   "cell_type": "code",
   "execution_count": 9,
   "metadata": {},
   "outputs": [
    {
     "data": {
      "text/plain": [
       "0.00014752723920421687"
      ]
     },
     "execution_count": 9,
     "metadata": {},
     "output_type": "execute_result"
    }
   ],
   "source": [
    "prob.solve()"
   ]
  },
  {
   "cell_type": "code",
   "execution_count": 10,
   "metadata": {},
   "outputs": [
    {
     "data": {
      "text/plain": [
       "'optimal'"
      ]
     },
     "execution_count": 10,
     "metadata": {},
     "output_type": "execute_result"
    }
   ],
   "source": [
    "prob.status"
   ]
  },
  {
   "cell_type": "markdown",
   "metadata": {},
   "source": [
    "Habiendo hallado el vector de pesos que minimiza el riesgo de nuestro portafolio, si suponemos que tenemos un capital total disponible de **US$5.000**, entonces el vector que nos indica el valor que debemos comprar de cada empresa es:"
   ]
  },
  {
   "cell_type": "code",
   "execution_count": 12,
   "metadata": {},
   "outputs": [
    {
     "name": "stdout",
     "output_type": "stream",
     "text": [
      "Inversión para SPYG: $36.0\n",
      "Inversión para QQQ: $259.0\n",
      "Inversión para SCHG: $24.0\n"
     ]
    }
   ],
   "source": [
    "i = 0\n",
    "for column in returns.columns:\n",
    "    if np.round(w.value[i]*5000) > 1:\n",
    "        print(\"Inversión para {}: ${}\".format(column, np.round(w.value[i]*320)))\n",
    "    i += 1"
   ]
  }
 ],
 "metadata": {
  "kernelspec": {
   "display_name": "Python 3",
   "language": "python",
   "name": "python3"
  },
  "language_info": {
   "codemirror_mode": {
    "name": "ipython",
    "version": 3
   },
   "file_extension": ".py",
   "mimetype": "text/x-python",
   "name": "python",
   "nbconvert_exporter": "python",
   "pygments_lexer": "ipython3",
   "version": "3.8.8"
  }
 },
 "nbformat": 4,
 "nbformat_minor": 4
}
