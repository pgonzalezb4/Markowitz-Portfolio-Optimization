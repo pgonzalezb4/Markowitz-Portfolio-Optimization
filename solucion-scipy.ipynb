{
 "cells": [
  {
   "cell_type": "markdown",
   "metadata": {},
   "source": [
    "# Importar librerias"
   ]
  },
  {
   "cell_type": "markdown",
   "metadata": {},
   "source": [
    "Importar librerias necesarias para manipular datos, realizar gráficos, hacer web scraping sobre el stock screener de las acciones en las que deseamos invertir y por supuesto, la libreria necesaria para formular el problema de optimización convexa y resolverlo."
   ]
  },
  {
   "cell_type": "code",
   "execution_count": 1,
   "metadata": {},
   "outputs": [
    {
     "name": "stdout",
     "output_type": "stream",
    }
   ],
   "source": [
    "!pip install -r requirements.txt\n",
    "import pandas_datareader.data as web\n",
    "import datetime as dt\n",
    "import pandas as pd\n",
    "import matplotlib.pyplot as plt\n",
    "from matplotlib import style\n",
    "import numpy as np\n",
    "import scipy.sparse as sp\n",
    "\n",
    "from bs4 import BeautifulSoup\n",
    "from yahoo_fin.stock_info import get_data"
   ]
  },
  {
   "cell_type": "markdown",
   "metadata": {},
   "source": [
    "# Web scraping y creación de conjunto de datos"
   ]
  },
  {
   "cell_type": "markdown",
   "metadata": {},
   "source": [
    "En esta sección se realizo web scraping para extraer los tickers de las empresas en las que deseamos invertir. Estas empresas se filtraron de manera que estuvieran en el sector de tecnología y tuvieran una capitalización bursátil grande (más de USD $10B).\n",
    "\n",
    "Únicamente se tuvieron en cuenta las empresas que tenian datos desde 2011-7-2 hasta 2021-7-2, quedando asi con 1'3 tickers de los 195 que había originalmente en el stock screener: [Yahoo Finance Stock Screener](https://tinyurl.com/StockScreenerYF)."
   ]
  },
  {
   "cell_type": "code",
   "execution_count": 2,
   "metadata": {},
   "outputs": [],
   "source": [
    "tickers = []\n",
    "\n",
    "with open('yahoofinance1.html', 'r',  encoding=\"utf8\") as html_file:\n",
    "    content = html_file.read()\n",
    "    soup = BeautifulSoup(content, 'lxml')\n",
    "    ticker_tags = soup.find_all('a', attrs={'data-test' : 'quoteLink'})\n",
    "    for tag in ticker_tags:\n",
    "        tickers.append(tag.text)\n",
    "\n",
    "with open('yahoofinance2.html', 'r',  encoding=\"utf8\") as html_file:\n",
    "    content = html_file.read()\n",
    "    soup = BeautifulSoup(content, 'lxml')\n",
    "    ticker_tags = soup.find_all('a', attrs={'data-test' : 'quoteLink'})\n",
    "    for tag in ticker_tags:\n",
    "        tickers.append(tag.text)  \n",
    "\n",
    "\n",
    "start = dt.datetime(2013, 1, 1)\n",
    "end = dt.datetime(2021, 8, 2)\n",
    "\n",
    "dataset = pd.DataFrame()\n",
    "\n",
    "for ticker in tickers:\n",
    "    data = get_data(ticker, start_date=start, end_date=end)\n",
    "    data[ticker] = data['adjclose']\n",
    "    \n",
    "    if dataset.empty:\n",
    "        dataset = data[[ticker]]\n",
    "    else:\n",
    "        dataset = dataset.join(data[[ticker]], how = 'outer')\n",
    "\n",
    "dataset = dataset.dropna(axis='columns')"
   ]
  },
  {
   "cell_type": "markdown",
   "metadata": {},
   "source": [
    "# Análisis exploratorio del conjunto de datos"
   ]
  },
  {
   "cell_type": "markdown",
   "metadata": {},
   "source": [
    "En esta sección se van a observar ciertas características del conjunto de datos."
   ]
  },
  {
   "cell_type": "markdown",
   "metadata": {},
   "source": [
    "A continuación mostramos una previsualización de como luce el conjunto de datos:"
   ]
  },
  {
   "cell_type": "code",
   "execution_count": 3,
   "metadata": {},
   "outputs": [
    {
     "data": {
      "text/html": [
       "<div>\n",
       "<style scoped>\n",
       "    .dataframe tbody tr th:only-of-type {\n",
       "        vertical-align: middle;\n",
       "    }\n",
       "\n",
       "    .dataframe tbody tr th {\n",
       "        vertical-align: top;\n",
       "    }\n",
       "\n",
       "    .dataframe thead th {\n",
       "        text-align: right;\n",
       "    }\n",
       "</style>\n",
       "<table border=\"1\" class=\"dataframe\">\n",
       "  <thead>\n",
       "    <tr style=\"text-align: right;\">\n",
       "      <th></th>\n",
       "      <th>SPYG</th>\n",
       "      <th>QQQ</th>\n",
       "      <th>VUG</th>\n",
       "      <th>IYW</th>\n",
       "      <th>VOO</th>\n",
       "      <th>VTI</th>\n",
       "    </tr>\n",
       "  </thead>\n",
       "  <tbody>\n",
       "    <tr>\n",
       "      <th>2013-01-02</th>\n",
       "      <td>14.894196</td>\n",
       "      <td>61.922443</td>\n",
       "      <td>66.147682</td>\n",
       "      <td>16.789381</td>\n",
       "      <td>113.875282</td>\n",
       "      <td>64.170731</td>\n",
       "    </tr>\n",
       "    <tr>\n",
       "      <th>2013-01-03</th>\n",
       "      <td>14.843247</td>\n",
       "      <td>61.599972</td>\n",
       "      <td>65.957527</td>\n",
       "      <td>16.667387</td>\n",
       "      <td>113.772995</td>\n",
       "      <td>64.076782</td>\n",
       "    </tr>\n",
       "    <tr>\n",
       "      <th>2013-01-04</th>\n",
       "      <td>14.887553</td>\n",
       "      <td>61.397213</td>\n",
       "      <td>66.174850</td>\n",
       "      <td>16.549992</td>\n",
       "      <td>114.250328</td>\n",
       "      <td>64.401299</td>\n",
       "    </tr>\n",
       "    <tr>\n",
       "      <th>2013-01-07</th>\n",
       "      <td>14.854324</td>\n",
       "      <td>61.415668</td>\n",
       "      <td>66.048058</td>\n",
       "      <td>16.520073</td>\n",
       "      <td>113.943497</td>\n",
       "      <td>64.230492</td>\n",
       "    </tr>\n",
       "    <tr>\n",
       "      <th>2013-01-08</th>\n",
       "      <td>14.836607</td>\n",
       "      <td>61.295872</td>\n",
       "      <td>65.912239</td>\n",
       "      <td>16.464823</td>\n",
       "      <td>113.602562</td>\n",
       "      <td>64.059700</td>\n",
       "    </tr>\n",
       "    <tr>\n",
       "      <th>...</th>\n",
       "      <td>...</td>\n",
       "      <td>...</td>\n",
       "      <td>...</td>\n",
       "      <td>...</td>\n",
       "      <td>...</td>\n",
       "      <td>...</td>\n",
       "    </tr>\n",
       "    <tr>\n",
       "      <th>2021-07-26</th>\n",
       "      <td>66.180000</td>\n",
       "      <td>368.489990</td>\n",
       "      <td>299.859985</td>\n",
       "      <td>103.959999</td>\n",
       "      <td>405.410004</td>\n",
       "      <td>227.919998</td>\n",
       "    </tr>\n",
       "    <tr>\n",
       "      <th>2021-07-27</th>\n",
       "      <td>65.580002</td>\n",
       "      <td>364.429993</td>\n",
       "      <td>297.049988</td>\n",
       "      <td>102.669998</td>\n",
       "      <td>403.609985</td>\n",
       "      <td>226.690002</td>\n",
       "    </tr>\n",
       "    <tr>\n",
       "      <th>2021-07-28</th>\n",
       "      <td>65.650002</td>\n",
       "      <td>365.829987</td>\n",
       "      <td>297.790009</td>\n",
       "      <td>103.120003</td>\n",
       "      <td>403.390015</td>\n",
       "      <td>227.039993</td>\n",
       "    </tr>\n",
       "    <tr>\n",
       "      <th>2021-07-29</th>\n",
       "      <td>65.779999</td>\n",
       "      <td>366.480011</td>\n",
       "      <td>298.070007</td>\n",
       "      <td>103.400002</td>\n",
       "      <td>405.130005</td>\n",
       "      <td>228.039993</td>\n",
       "    </tr>\n",
       "    <tr>\n",
       "      <th>2021-07-30</th>\n",
       "      <td>65.370003</td>\n",
       "      <td>364.570007</td>\n",
       "      <td>295.940002</td>\n",
       "      <td>103.190002</td>\n",
       "      <td>403.149994</td>\n",
       "      <td>226.690002</td>\n",
       "    </tr>\n",
       "  </tbody>\n",
       "</table>\n",
       "<p>2160 rows × 6 columns</p>\n",
       "</div>"
      ],
      "text/plain": [
       "                 SPYG         QQQ         VUG         IYW         VOO  \\\n",
       "2013-01-02  14.894196   61.922443   66.147682   16.789381  113.875282   \n",
       "2013-01-03  14.843247   61.599972   65.957527   16.667387  113.772995   \n",
       "2013-01-04  14.887553   61.397213   66.174850   16.549992  114.250328   \n",
       "2013-01-07  14.854324   61.415668   66.048058   16.520073  113.943497   \n",
       "2013-01-08  14.836607   61.295872   65.912239   16.464823  113.602562   \n",
       "...               ...         ...         ...         ...         ...   \n",
       "2021-07-26  66.180000  368.489990  299.859985  103.959999  405.410004   \n",
       "2021-07-27  65.580002  364.429993  297.049988  102.669998  403.609985   \n",
       "2021-07-28  65.650002  365.829987  297.790009  103.120003  403.390015   \n",
       "2021-07-29  65.779999  366.480011  298.070007  103.400002  405.130005   \n",
       "2021-07-30  65.370003  364.570007  295.940002  103.190002  403.149994   \n",
       "\n",
       "                   VTI  \n",
       "2013-01-02   64.170731  \n",
       "2013-01-03   64.076782  \n",
       "2013-01-04   64.401299  \n",
       "2013-01-07   64.230492  \n",
       "2013-01-08   64.059700  \n",
       "...                ...  \n",
       "2021-07-26  227.919998  \n",
       "2021-07-27  226.690002  \n",
       "2021-07-28  227.039993  \n",
       "2021-07-29  228.039993  \n",
       "2021-07-30  226.690002  \n",
       "\n",
       "[2160 rows x 6 columns]"
      ]
     },
     "execution_count": 3,
     "metadata": {},
     "output_type": "execute_result"
    }
   ],
   "source": [
    "dataset"
   ]
  },
  {
   "cell_type": "code",
   "execution_count": 4,
   "metadata": {},
   "outputs": [
    {
     "name": "stdout",
     "output_type": "stream",
     "text": [
      "Número de columnas: 6\n"
     ]
    }
   ],
   "source": [
    "print(\"Número de columnas:\", len(dataset.columns))"
   ]
  },
  {
   "cell_type": "markdown",
   "metadata": {},
   "source": [
    "Acá observamos un ejemplo de como es la visualización de una de las acciones que vamos a incluir en el portafolio. Esta acción 'FIS' corresponde a la primera que sale en el conjunto de datos anterior. Se puede obtener una visualización igual para cada una de las columnas del conjunto de datos que tenemos, en este caso estamos graficando la primera columna que corresponde a la acción 'FIS'."
   ]
  },
  {
   "cell_type": "code",
   "execution_count": 5,
   "metadata": {},
   "outputs": [
    {
     "data": {
      "image/png": "iVBORw0KGgoAAAANSUhEUgAAAswAAAE/CAYAAABSP5UwAAAAOXRFWHRTb2Z0d2FyZQBNYXRwbG90bGliIHZlcnNpb24zLjQuMiwgaHR0cHM6Ly9tYXRwbG90bGliLm9yZy8rg+JYAAAACXBIWXMAAAsTAAALEwEAmpwYAABTQElEQVR4nO3dd3gcxeHG8e+o9+4u994LsrGxjQ3G9GJ66BAIIRAgQEIgoYXQAoE0Sn6EEnqvAQOmg3HvvVu25Kre6938/rjT+VQtSyedyvt5Hj/a3dubnR0J8d5odsZYaxERERERkboF+LsCIiIiIiJtmQKziIiIiEgDFJhFRERERBqgwCwiIiIi0gAFZhERERGRBigwi4iIiIg0QIFZRDoFY8wlxph5TXxvqjHmhHpem26M2dzMuoUbY34yxpx8mPP+YIx5rjnXakRdZhpj0lvyGiIi7Y0Cs4j4nTuQlhhjCo0xB4wx/zXGRPnyGtba16y1J/qyTHe5P1prhx7uPGPMfcaYV+t5+f+Ax621nx/mWg9Za69pSj1bgzEm2RjznjEm0xiTZ4xZZ4y50v1aP2OMdX+PC93f8zuMMd3c58+sUdYLxpg3vfZ/ZoxZbIwpMsYcdG9fb4wxrXqTItIpKTCLSFtxhrU2CpgApAB31TzBGBPU6rVqBdbay6217zd0Tju591eANKAvkAhcBhyocU6c+/t8EXAPMB64BfiPMSYcwBgzCzgduNG9fxvwD+AxoDvQDbgOmAqEtOwtiYgoMItIG2Ot3QN8BowCcPdK3mCM2QpsdR873RizyhiTa4xZYIwZU/V+Y0xvY8z7xpgMY0yWMeZJ9/ErjTHzvc47xhiz1N0TutQYc8xhqjbOGLPGff5bxpgwdznVhjAYY35vjNljjCkwxmw2xsxyD7X4A3Chu3d1tfvcnsaYj40x2caYbcaYX3iVc58x5l1jzKvGmHzgypq91MaYae77zzXGpHn15sYaY152t8EuY8xdxpg6f9+7h4P81xiTY4zZAEys8XpPd69xhjFmpzHmpgbaaCLwX2ttkbW20lq70lr7WV0nWmsXAuuBUdbaV4DNwP3u0Px/wE3W2gxjTCxwP3C9tfZda22BdVlprb3EWlvWQH1ERHxCgVlE2hRjTG/gVGCl1+E5wNHACGPMeOAF4Je4ejH/D/jYGBNqjAkEPgF2Af2AXsCb1GCMSQA+Bf7pLuMJ4FNjTGIDVbsAOBnoD4wBrqyj3KHAr4GJ1tpo4CQg1T3U4iHgLWttlLV2rPstbwLpQE/gPOAhY8zxXkWeBbwLxAGv1bhWX1wfLP4FdAHGAavcL/8LiAUGADOAy4Gr6rmve4GB7n8nAVd4XSMA+B+wGldbzgJ+Y4w5qZ6yFgFPuYdP9KnnHIzLVGAkh77P1wE/x9Um66y1Vd+3KUAo8FF95YmItDQFZhFpKz40xuQC84HvcQXMKg9ba7OttSXAtcD/WWsXW2sd1tqXgDJgMjAJV/j8nbuXs9RaO5/aTgO2WmtfcfeEvgFsAs5ooH7/tNbutdZm4wqR4+o4x4Er3I0wxgRba1OttdvrKsz9wWAq8Ht3PVcBz+EKt1UWWms/tNY63ffu7WLgK2vtG9baCmttlrV2lftDw8+AO929sanA47iGR9TlAuBBd/um4foQUWUi0MVae7+1ttxauwP4j7v8upwP/AjcDex0/xVgYo1zMoFs973eYa39GsBam45riMYJwK+8zk8CMq21lVUHvHrVS4wxx9ZTFxERn2kPY+JEpHOYY639qp7X0ry2+wJXGGNu9DoWgisoO4Bd3uGqHj1x9UJ724WrF7U++722i91lVGOt3WaM+Q1wHzDSGPMFcKu1dm89dci21hbUqEOK134a9esN1BXGk4Bgqt9fQ/fWs8Z1vN/XF+jp/iBTJRBXKK7FWpsD3AHcYYxJAv6K64NQsnf9Gvj+rAdyrLX7vI5lAUnGmKCq91lrjwFwD4VRx4+ItDj9ohGR9sB6bafh6hGN8/oX4e4lTgP6NOIBub24wqC3PsCeZlfU2tettdPc5VvgL3XcQ1UdEowx0Q3UoeZ7vKXhGkZRUyZQQfX7a+je9uEK397nel9jZ422jrbWntpAvVwVtzYTV2DuCSQc7vwGLMT1F4SzmlGGiEizKDCLSHvzH+A6Y8zR7rGwkcaY09zBcwmuAPiI+3iYe6xsTXOBIcaYi40xQcaYC4ERuMY/N5kxZqgx5nhjTChQCpQATvfLB4B+VQ/fuYc/LAAedtdzDHA1UN/UczW9BpxgjLnAfQ+Jxphx1loH8DbwoDEm2j3W+dYGyn0buNMYE+/uCfbuuV8CFLgfZAw3xgQaY0bVMcyi6v7/4n49yP39+BWwzVqb1ch7qsVamwv8CXjaGHOe+54CjDHjgMimlisiciQUmEWkXbHWLgN+ATwJ5ADbcD+A5w6LZwCDgN24Hqi7sI4ysnBNW3Ybrj/53w6c7u4VbY5Q4BFcvbz7ga7Ane7X3nF/zTLGrHBvX4Tr4cS9wAfAvQ0MS6l5D7txPRx5G64xwauAqocJbwSKgB24xoS/jutBybr8CdcwjJ3APFxTw1Vdw4Grnca5X8/ENfY4tp6yItz3keu+dl/gzMbcT0OstY/iCv234/rgcQDXw56/x/WhQ0SkRRlrG/qLn4iIiIhI56YeZhERERGRBigwi4iIiIg0QIFZRERERKQBCswiIiIiIg1QYBYRERERaUCrrvSXlJRk+/Xr15qXFBEREZFOZvny5ZnW2i6+Kq9VA3O/fv1YtmxZa15SRERERDoZY8wuX5anIRkiIiIiIg1QYBYRERERaYACs4iIiIhIAxSYRUREREQaoMAsIiIiItIABWYRERERkQYoMIuIiIiINECBWURERESkAQrMIiIiIiINUGAWEREREZ9Kyy5mTXquv6vhM626NLaIiIiIdGz5pRVMf/RbAHY+fCrGGD/XqPnUwywiIiIiPnMwv9SzvTOzyI818R0FZhERERHxmaIyh2f74v8s9mNNfEeBWURERER8prj8UGCODusYo38VmEVERETEZ4rLKwGICAmkS3Son2vjGx0j9ouIiIiI3935/hrSc0oAePe6YxjeI9rPNfINBWYRERERabYftmTwxpI0z36P2LAOMUMGaEiGiIiIiDTTmvRcLn9hiWc/wEBseLAfa+RbCswiIiIi0izz1h+oth8THkxAQMfoXQYFZhERERFppiWp2dX2Y8I6Tu8yKDCLiIiISDOk5xSzNDWbYd2j+d1JQwEoKqv0c618Sw/9iYiIiEiTpeeUYC3cc/oIQoNdfbFZReV+rpVvKTCLiIiISJNV9SZHhgbRv0ukn2vTMhSYRURERKTJCt2BOSosiJiwYEKCArh4Uh8/18q3FJhFREREpMlW7s4FDi2DveWBU/xYm5ahh/5EREREpMn+uyAVgKTIjrEMdl0UmEVERESkSarGLw/tFt2h5l2uSYFZRERERJpkw758AH5/ylA/16RlKTCLiIiISJN8vm4/AKN6xfq5Ji1LgVlEREREmmTh9ixiwoLoGh3m76q0KAVmERERETlimYVlbNiXzxlje/q7Ki1OgVlEREREjlh6TgkAY5Pj/FuRVqDALCIiIiJHLLfYtfz1wK4dc3U/bwrMIiIiInJE1u/N48oXlwIQHxHi59q0PAVmERERETkip/1zvme7X6J6mEVEREREPMorndX2O/KCJVUaFZiNMXHGmHeNMZuMMRuNMVOMMQnGmC+NMVvdX+NburIiIiIi0jKKyio5kF/KpAe/4rXFu+o9b/3ePM/2qaO7t0bV/K6xPcz/AD631g4DxgIbgTuAr621g4Gv3fsiIiIi0s5s2p/PyHu/4KS//8DBgjL++MG6es9dsD0LgKun9eefPxvfWlX0q8MGZmNMLHAs8DyAtbbcWpsLnAW85D7tJWBOy1RRRERERFrSil25AOQWV3iOWWvrPDezsIyo0CDuPn0EQYGdY3RvY+6yP5ABvGiMWWmMec4YEwl0s9buc5+zH+jWUpUUERERkZbzhw/W1jp2w+srKCqrrHV8f14pcRHBrVGtNqMxgTkImAA8Y60dDxRRY/iFdX0EqfNjiDHmWmPMMmPMsoyMjObWV0RERERawdy1+7nj/UNBusLh5P0V6Xy2bj9je8f5r2J+ENSIc9KBdGvtYvf+u7gC8wFjTA9r7T5jTA/gYF1vttY+CzwLkJKSUnffvoiIiIj4RX5pRb2vVT3g99+fdnLf/zYAEBcRzGPnjWmVurUVh+1httbuB9KMMUPdh2YBG4CPgSvcx64APmqRGoqIiIhIi3n2+x2e7Usn9+G9X03x7Fc6XH2dVWEZXOOcI0Ia0+facTT2bm8EXjPGhAA7gKtwhe23jTFXA7uAC1qmiiIiIiLSUvbnlwLwj5+N46xxvaq9VulwzbkcFxFc7YHAzqZRjzZaa1dZa1OstWOstXOstTnW2ixr7Sxr7WBr7QnW2uyWrqyIiIiI+FZucTnDe8RUC8snj3TNr1zucLIjo5Dc4gr+cOowf1XR7zrHXCAiIiIiUqec4gria8x68eTF4znvqGQyC8s5/vHvAeibGMlj543htWuO9kc1/UqBWURERKQTyykurzVNXFBgABP6VF/EuWt0KOen9GbqoKTWrF6boMAsIiIi0klVOpzsyCgiLiKk1mtJUdWPjetkU8l5U2AWERER6WAKSiv4fktGvav1VXl10S6AOhcoCQmqHhONMb6rYDujwCwiIiLSwby8cBdXvLCE//y4o8HzctwzX9w2e2it12oG5s5MLSEiIiLSgeQVV/DYF5sB+Nc323A46+9lTssppntMGH0SI2q9FuoVmL3nZu6MFJhFREREOpDn5x/qVS4orWRfXkm956ZmFtE/KbLO10ICAwHonRDOUX0TfFvJdkaBWURERKQD+d+afQD88tgBAKRlNxCYs4rpV09gDgxwjVkODw70cQ3bHwVmERERkQ7gkucW8dt3VpOaVcRNxw/i4qP7AK5hF3XJL60gu6icfnUMxwAorXQAEN7JlsGui1pAREREpJ3bm1vCT9uyPPvxkSH0iA33vFaX3CLXA3+JUaF1vj6oaxSRIYH89sQhPq5t+6PALCIiItLOvb0srdr+rqxiQoICSIoK4UB+aZ3vKShzBeao0LrjYExYMOvvP9m3FW2nNCRDREREpJ1buD2r2v6Vx/QDoFtMGPvz6g7MRWWuIRf1BWY5RIFZREREpJ3bU2PYRc8413CMqNAgvt2cwbUvLyO/1NWjXF7pBKCwqoc5TIH5cBSYRURERNo575X6ggONZ9GRXPfCJPM2HOCeD9dxsKCUIXd9xhtLdlNQ6npPVKhmwTgcfaQQERERaYeyi8q57pXlPH7BWMrcvcYAFY5DC5XERwZ7trOKylm8IxuAO99f6zkeFXroHKmbephFRERE2qF56/ezJDWbv325pVpg9vbIOWM823tyS7jxjZW1zolUD/NhKTCLiIiItEPxkSEA7MgswuG0JLj3o70e4uvrNcdyXQ//9U4IJ1LzLB+WArOIiIhIO1Ra4ZrlYlVaLgAT+sQDEBN+aIiFMcazHR8RUquM16+ZTECAqXVcqtNHChEREZF2ZOXuHM5+ekGt49Hu2S68A7O3ovLKWsciNaVco6iHWURERKQdee7HnXUe7x4bBkBSVO2eZDg0Y0aVYwYmEqMp5RpFrSQiIiLSDuQVV7Azq4jUrKI6X79uxkDySiq48fhBDZZz06zBjOkVywkjurVENTskBWYRERGRduD291bzxfoDAEwZkMjCHdVX94sND+ahs0fXet+7103hN2+tIj3HtbjJzbMGE6hxy0dEgVlERESkHdjnNcvF2eN7eQLzn88aSZ/EyHrfl9Ivge4xYaTnlNAlOlRhuQkUmEVERETasL25Jfz1i81kF5V7jk3oG8exQ7qwI6OQy6b0O2wZy3blAJBRUNZS1ezQFJhFRERE2qhKh5NjHvnGs3/x0X343YlDiY8M4eWfT/JjzToXzZIhIiIi4mMl5Q7Oefon1u3Ja1Y5D87dWG0/JizYs2CJtB4FZhEREREfW7k7hxW7c3ng0w3NKufFn1Kr7UdrGji/UGAWERER8bES9yp8Ec1cdnr64CRCgw7Fta7RoU0q55pp/ZtVj85OH1NEREREfKwqMIcHBx7xe1el5bJgeyajesby49ZMpg9O4vcnD6OgtJKj+sY3qT53nT6C5+bXveCJHJ4Cs4iIiIiPlZS7AnNYEwLznKd+AmDqoEQALp/Sj1G9Yptdp29um4ExmlKuKTQkQ0RERMTHPD3MIXVHrczCMh6eu5HySqfnWIXDyS6vVfx+2pbF5VP6MttHK/IN6BJF/6T652uW+qmHWURERMTHcosrgPqHZPz9qy28umg3w3vEMGd8LwBuf3cNH6zcU+28XnHhLVtRaRT1MIuIiIj4UEFpBU98uQWof0iGta6v3guJbDtYWOu8mPBg31dQjpgCs4iIiIgPvbZ4t2e7KhjX5HC6XkjPKfYci4uoHY6Topo2K4b4loZkiIiIiPjQCvcy1AAVTmed5+zPLwVgW8ahXuUyr/HM7/3qGPbkljBrWNcWqqUcCQVmERERER/qmxhBeHAgAQYcjrq7mPfnuQLzmvQ8rLUYY6o9AHhU3/gmTyEnvqchGSIiIiI+VFzuICIkkKDAACqddQfmg+6xywWllezIdM2MUV7pZPKABFbfc2Kr1VUaR4FZRERExIdKyh2EhwQSGhRAqXt6OW/WWvJKKhjVKwaAWY9/z5cbDlDucJIQGUJsHWOZxb8UmEVERER8qKCsksiQIKLDgigoraz1enG5A4fTMiY5znNswfZMyiudhAQqmrVFjRrDbIxJBQoAB1BprU0xxiQAbwH9gFTgAmttTn1liIiIiHQGadnF9IoPJ7uonPzSilqv55W4jg3vEeM5ZnCNYQ4NOvKVAaXlHcnHmOOsteOstSnu/TuAr621g4Gv3fsiIiIinVZ2UTmbDxQwqlcsMeHB5JfUDsxbDhQAkBwXzsI7j6dbTCivLEql3OEkJEg9zG1Rc74rZwEvubdfAuY0uzYiIiIi7diPWzOwFo4f1pWkqBC2ZxSRll3MDvf0cWvSc7nyxaUAdIsJo0dsOAfyy6hwWLKLyhWY26jGflcsMM8Ys9wYc637WDdr7T739n7ANwudi4iIiLRTWw8UEmBgVM8YukaHUVhWyfRHv+X4x78H4NxnFnjOjQp1jYydPeJQhFJgbpsa+12ZZq2dAJwC3GCMOdb7RWutxRWqazHGXGuMWWaMWZaRkdG82oqIiIi0YZ+t20dkaBBBgQF0ia6+Sp+1lgqveZnDQ1zjlasFZj301yY16rtird3j/noQ+ACYBBwwxvQAcH89WM97n7XWplhrU7p06eKbWouIiIi0MYVllWzPKPLMjFEzMOeXVJ8xI8IdmL1DsnqY26bDfleMMZHGmOiqbeBEYB3wMXCF+7QrgI9aqpIiIiIibV1adnG1/S5R1QPz2j151fbDg12BOSjQeI6FKjC3SY2ZVq4b8IExpur81621nxtjlgJvG2OuBnYBF7RcNUVERETapsKySuau3cd9H68H4NObpgG1e5hXp+d6tl+9+mgCAlxBOdirhzkipFEz/korO+x3xVq7Axhbx/EsYFZLVEpERESkvXho7kZeX7wbgK7RoYzsGevajqkemB/7YjMAS/94QrUwXVbp9GxXDdOQtkX9/iIiIiLNkOc11/Jfzhvj2Y4OrbtfMikqpNp+afmh5bMVmNsmBWYRERGRZkiOD/dsx4UHe7aNMXx283Q+/830aue7h7l6lFR4B2YNyWiL9F0RERERaYa9uaWe7ZqzXAzvEUOJVw9yXYZ1jz603SO6gTPFX9TDLCIiItIMm/ble7YDavQeA4QFNxy3jh6QCLiGaiTVmFlD2gb1MIuIiIg0UUZBGVsPFnLdjIH0ig+v1ltcxRjDf6+a6FkSuy5r7juR4AD1Y7ZVCswiIiIiTbRwRxYAp4zqztjecfWeN75PfIPlxIQFN/i6+JcCs4iIiMgRstaybFcO6/fmERIYwMieMQ2eH+me/eLmWYNbo3riYwrMIiIiIkdo8B8/o9Jp6RkbRmxEMEGBDQ+nCAoMYOfDp7ZS7cTXNFhGRERE5AhVOi0Ae/NKiQ5rXP+jMabWlHLSPigwi4iIiDRDfETI4U+Sdk2BWUREROQIbNibX20/5DDDMaT90xhmERERkUa6/d3VvL0svdqx0sqGFyaR9k8fiUREREQaqWZYBhjaTavzdXTqYRYRERFphB+3ZlTbP2ZgIiUVDu49Y6SfaiStRYFZREREpBGue2W5Z7trdCiv/2KyH2sjrUlDMkREREQaoaj80Fjla48d4MeaSGtTD7OIiIhII3SLCeVAfhlr7jtRS1l3MuphFhERETmMgtIKDuSX8buThiosd0LqYRYREZF2raTcQXhIoE/LdDot2cXlJEWFsnFfPmnZxYBmxOis1MMsIiIi7daqtFyG3/M532/JOPzJR+Cej9eR8sBXlJQ7OOUfP3Kt+4G/QV2jfHodaR8UmEVERKRdWrE7hzlP/QTANxsP+LTsVxftBiAtp7ja8YQoLYPdGSkwi4iISLt070frPdvhIb4bZborq8iz/eQ32zzbAQaifHgdaT8UmEVERKTdsdaydk8eAFGhQZT5cHnqH7yGd3y8eq9nOzY8mIAA47PrSPuhwCwiIiLtzrvLXUtUj+8TR0xYEAWllT4ru7Cs7vAdFabe5c5KgVlERETand+9uwaAR88dQ0x4MHklFT4rO73GuOUqYUG+nYlD2g8FZhEREWlXnE7r2R7YJYr4iBByi8t9Vv5ri3dX27/huIEAJEWF+uwa0r4oMIuIiEib53Ba9uWVsGBbJgcKSgG4/6yRBAQY4iODyS7yXWCufW3X1xE9Y1rsGtK2aTCOiIiItHkPfLqBF39KBeDd66YA0DXa1ePr6mH2zZCMorLaY6GT3FPJTRuU5JNrSPujwCwiIiJt3jr3jBgA5/17IQCRoa4YEx8RQk5xOU6nbfYsFruyXOOXTxnVnc/W7Wds7ziuOKYfo3rFMnlAYrPKlvZLQzJERESkTSurdLA0NYe+iRHVjnsCc2QITotPZsp4ZVEqIUEBDHYvgT2sWzTBgQEKy52cArOIiIi0aXe8txaAwV2jqx2Pjwhxfw0GILuZD/5Za/lg5R5OGN6VaHcYT9TKfoICs4iIiLRhucXlfLByDwB3nDK02mv93D3O8ZGuUJvTzMC8cV8BpRVOeidEcNHRfbj46D78aubAZpUpHYPGMIuIiEibtWhHNgC9E8IZ5NXDHB8RjDGu8cpVvcF1PbDXWC/M38n9n2wA4NRRPYgKDeKhs0c3uTzpWBSYRUREpE0qLKtkVVouAC9dNQmAj389ldVpuZwxtqfnvFD3giKlFc4mX6sqLEeHBTG4W1STy5GOSYFZRERE2qTLn1/Mit25APROcA2/GJMcx5jkuGrnhQW7RpiWVda9pPWR+Mu5Y4gIUTyS6jSGWURERNqcD1ame8JyYIAhOLD+yFLVwzxv/QGufXkZ1tp6z62L9/mnju5x5JWVDk8foURERKRNKSl3cMtbqz376+47qcHzq3qYP169F4AKhyUkqHHzMX+14QDXvLysiTWVzkI9zCIiItJmOJyWX7++wrP/yxkDCA8JbPA9NV8vqWj80AzvsPy7k4Y2cKZ0ZuphFhERkTZj28FCvt50kNkjunHdjIGMSY497Huiw4Kr7ZdWOIgND67n7PpN1dLXUg/1MIuIiEib8fz8HQD89sShHNU3vsGxy96GeM1sUVLeuB5mh7P6WOdeceGNrKV0No3uYTbGBALLgD3W2tONMf2BN4FEYDlwmbW2eTOGi4iISKe1L6+Et5elAzCgS+QRvdd7SrnGDMlYlprNgu1Z1Y4laVU/qceR9DDfDGz02v8L8Ddr7SAgB7jalxUTERGRju+L9fv5zZsrcTgtryzcBcA3t81odM9yleLyQ4uWNCYw/+q1FTzx5ZZqx6oWQhGpqVE9zMaYZOA04EHgVuP6iToeuNh9ykvAfcAzLVBHERER6aDu/Wg9+/NLmb8tk8zCckb3imVAlyNfOKTYaxhGaSOGZGQUlB3xNaTzauzHt78DtwNVf+9IBHKttVUf59KBXnW90RhzrTFmmTFmWUZGRnPqKiIiIh3I7qxiKhyuaJFZ6BrV2TMurElleQfmI5klo8r0wXrgT+p32B5mY8zpwEFr7XJjzMwjvYC19lngWYCUlJQjm0lcREREOqQnv9nKX+dVHxIxZUAiD549utllNxSYX16Yyqhe1Wfe2PLAKQRoNIY0oDFDMqYCZxpjTgXCgBjgH0CcMSbI3cucDOxpuWqKiIhIR2Gt5Znvtnv2f33cIJ78dhuPXzCWpKjQZpdf3MCQjHs+Wl/rWEiQJg2Thh02MFtr7wTuBHD3MP/WWnuJMeYd4DxcM2VcAXzUctUUERGRjsDptDz57TaKyh3cfvJQLkzpTUJkCJdN6Uu3mKYNx6iptJ4e5qKyylrHtFiJNEZzPlL9HtcDgNtwjWl+3jdVEhEREX9blZZLRkEZD366gUufW0xmYfMfkvtw5R4G/GEuT3y5hajQIC6f0o/EqFCMMc0Oy4+fP5ZLju4D1D8P81X/XVpt/5fHDuD6mQObdV3pHI5opT9r7XfAd+7tHcAk31dJRERE/OmlBanc+/F6BnWNYtvBQgBeXriLW2cPaXKZpRUOfvPWKsC1QMjLV08iKtR3Cw6fe1QyZ4/vxWuLd9c7JGPJzmzPdkRIIHeeOtxn15eOTUtji4iICAD5pRWc/8xCNh8oAPCEZYAdGYV1vuefX2/l5YWpTB6QyKId2dx9+nDOGld74qz//OBawW/GkC689POW6W8LcD+594+vt/KzSb3pEVv/yn0NjXMWqUmBWURERADYuDffE5b7JkawK6sYgEFdo8gtrqjzPa8s2kVmYTmfrNkHwM1vrmJEjxgGd4sG4Li/fsfOzCIAuseE8eKVE1v6NgBYsSuX08bUH5hnDu3SKvWQjkGPhYqIiHRyby7ZzTUvLeWVRa6V9sb1juOFKyfy0Nmj+erWGfRLjCCjoIyC0tqhObqOYRWz//YDG/flU1rh8IRlgFtnD/H0Arc0S+2ZbE8b3cOzfaQrCUrnph5mERGRTu6JL7dw0L3y3aheMXx4w1QABrpX3BvYNYqvNh5k9H3zGNAlkqzCcgrLKumfFMkOdyA+c2xPHj1vDMPu/hyAU/7xIxP6xFW7zvQhrbc4iK1j5Qen10HNuyxHQoFZRESkg8opKico0BAdFtzgeYFe6XHWsG61Xh/RI8azvSPjUI9x1RjnK4/px31njgTg0sl9eHXRbgBW7M4F4J3rppBRUNbgmGJfq5mXv9+SwWfr9nv2A4wSszSeArOIiEgH9O3mg1z1omsatV8fN4jf1jPfcGmFg/35pZ79E4bXDsy9EyIavNapXkMdHpgzmoXbs9juDtbnTkhmYr+EI66/r326Zi8AfRIi2J1dzIUTe/u5RtKeKDCLiIh0QFVhGeDJb7fx82n9SYgMqXZOYVklL8zfibVwYUpvLJaRPWNqFkWP2PrnSP7utzPplxRZ7ZjTq3s3LqLh3u2WYmuMycguqqBXXDgf/3oqcREh9bxLpG4KzCIiIk2QW1xOTnEF/WuERX/bnVVc5wNvWw4UkFdSwUkjuwNQ4XAy56mfPMMqbjhuEH0S6+5J7tLActU1w3JV2VW6+2j1vuYqqaikR2yYwrI0iR4RFREROQKlFQ52ZRUx5eFvOO6v37HFPQ2bvzmdloXbszj2sW+Z8dh3APz1/LFckJIMwM+eXcQvX1nOyt05AKzfm+8Jyx/dMLXesAwQVM+MEtdM61/n8emDXQ/3XTq5D5dN6duk+/G1knIH4SGB/q6GtFPqYRYREamHtZYrXlxKv8QIbps9lLScYm58Y2W1qdLWpOcxxD3nsD/9dd5mnv5uu2d/5tAuzBnXk8kDEnh7Wbrn+NlPL+CrW48ly73U9Uc3TGVs77gjuta0QUmcn5Jcbeyytz+dOYprpg/wzLLhD84aQzJKKpwkRikwS9MoMIuIiNQjs7CcH7Zk8AOwPaOQn7ZleV6b1C+BJanZHPB6YK61WWvJKCyjpNzBcz/uBCApKoQPrp9Kr7hwAgIMyfERRIYEUuS1st2SnTlUdRonRjVuiMK9Z4ygpMLBBSm9iQkLJiSo/j9ShwQF+DUsA9zx3lrOHu/qXXc4LRv35eNwOg/zLpG6aUiGiIhIPeZtODQNmXdYPn1MD96+bgoxYUF+DcwvLUhl0oNf8/i8LVQ4nfx0x/Esu2s2vRMiqi0Q8sSF46q97w8frGVNeh5BAabRY4yvmtqf62cOIikqtMGw7G8vXJkCQFnloXBc9T3acqDu5b1FDqft/sSLiIj42Qcr9jAgKZLrZgz0HAsMMNx9+gjANd3ap2v2kVtc7pf6fb7eFeg/Xr2XSf0S6BVX9zzHfd3jk5OiQvmTe77k1xbvpmt0aL3jk9ur4T1qz/JRXF4JwKPnjWnt6kgH0bH+KxEREWmCVxbt4rO1+wDILCzD4bQUlVWybFcOp4/tyeVT+jJrWFdevfpotj90Kt3cvbLXzxxEVlE57y5Pb6j4FpFbXM6iHdme/Zpjdr31TXDNZPGrmQO5bPKhh/A64owRgV4LklhreW95Omv35AGQGNnx7ldah8Ywi4hIp3f3h+sA+OTGaZzx5HziI0KodE+NNrx7ND3jwnn+yom13nfqaNcUbfmlla1WV2stxhhO+vsP1Y5fP3NQve8JDwkk9ZHTPPvDe8SwcV8+8ZH+mSO5JXkPRflw1R5ue2e1Zz8yVLFHmkY/OSIi0qmVVhx6GO6mN1ZiLWQXuYZYHNU33jNvcV2MMYQHB5JZWEZmYRlJDcxX7As7Mgo588mf+M0JgzmQX0ZoUAB/njOKId2iGXcEM12cMbYHG/flU+Gov1e6vQryCszZRRXVXosMUeyRptGQDBER6bReWZjKsLs/9+zvyCzi/KOSPfvv/eqYaj2WdYkICeT1xbtJeeArHO4l7orKKvlhS0at1eaao6TcwZtL0ygsq+SBTzcC8M+LxnNBSu8jCssAM4d0BWDTvnyf1a+t8P5+BdX43kWGalo5aRp91BIRkU5pyc5s7v5ofa3jd5wyjDtPHd7osBsWfCiEFZZWEhsRzGuLd/HQ3E28eNVEjhvqCqfWWtJzSuidUP8CIQ2568N1vLei+ljpSf0SmlTW8B7RnDiiG+d5fTjoKLzHMNf8sKMhGdJU6mEWEZEO76NVe3hr6e5qSzbf/4krLF80qTfvXDfFczwxKpSEyBASGzm8otJrbt/8UtcQgN3ZxQCkei1w8uQ325j+6LfsyiriSN3w+gpPWF51z2zP8fgmPsRmjOHZy1M4sYHhJu1VoFdI9g7PoMAsTaefHBER6bD25ZVwwuPfexbt+P17a0l95DSKyytZt8c1HOGBOaOpilVxEUf+ENyB/DLP9sOfbeTpS44iKtRVTm7xoTG0L/zkWlik4AgfEMwuKufTNa4ZPB45ZzRxESF0iQ5lxpAuR1zXziDAu4e5xmiaiGANyZCmUWAWEZEO6+9fbq22wh24xgJXBdDzjkr29Eh+ecuxRIU173+Lc9fuZ0dGITszXQtkpOeUeF7LcYfnckfjV5vLK67g39+7lrv2Ht6x9I8nNKueHZl3D3ONDubDjkcXqY+GZIiIiF/c9MZKrn9teb2vZxWW8fm6/RSVNX3KtqqhEcvuOsGzaMU3mw6ydk8e0WFBPOa1kMXgbtH0iK174Y/GuOToPgCc8MT3fLH+AIBn+IX3aoBlFY0LzNZaxt4/j2d/2EFIUAAz1aPcKN6ZuLxSS2GLbygwi4iIX3y8ei9z1+5n28G6lyt+cO5Grnt1OS8v3NWk8tek57JwRxZ3nTacpKhQzhrXk+BAw7ebD/Lywl0kRYVianZBNkPV9HNOr2cFl+3K4aG5Gz092gBllY6ab63T+r2HZrAY1j3ap3XtyLzbqeZfF0SaSoFZRERa3fytmZ7t+z/ZUO21lxem8uHKPWQUuMYGP/XttmoP6zXGpv35vPhTKnAoyIYGBVLhsJ5V+fJKKup7+xF59eqjeey8MdVmywAY3ycOgGd/2EGU18Nmby1Na1S5t719aMGN62cObOBMqc8jn23ydxWkg9AYZhERaXWPfL7Rs/3DlgzPdlmlg3vcU72NTY4FoNA9p/Gs4d0aLHPJzmxue2cV4cGBbDlwqNfaezGR2PBgT1D+1QzfhNBpg5MAWL4rx3Ps5JHduf64gZz55E8A7PcakvHZuv31lmWtpbTCSXhIIOk5xQzrHs2TF49nUNdon9S1M/vznFH+roK0Y+phFhGRVrX1QAHr9uTz6+MGMXVQYrWZKZbuPBQ6D+SXeZae/t27aw5b7htLdpOWXVItLINrWegqfzxtOAD3nzWSa6b3b9Z91OT0mrc5ISqEId0OhdwtBwoA6JfomoP5pjdWepbe9vbO8nSG3/M5by9Lo6jcwamjeygsN1OP2DBSHzmNyyb39XdVpB1TYBYRkVb1jntIxMVH92FUz1iKvcaZVs0uAa5e2SkDEgHX1GpVQzSq/G/1Xtam53n203OKPdvXTOvPDccN5MUrJ1Z7z3kTkvnvVRO5bHLfFh0TnBQZQlhwIHNvmg7Apv2uwDy8RwzgGr/t3etc5bvNBwG43f0BIaGJ8yx3dlMHJXq2gwI19luaT0MyRESk1by3PJ1nf9hBYmQIPePCiQkPprzSSWmFg2teWsb8bZnVzj9zbC/ySyt57IvN7MktoUu0a3hFfmkFN76xkuT4cOb//nicTsuK3bnMGdeTh84ZTURI3f97CwgwzHRPzeZrE/rEe7ZL3bMz9Ipzzbqx7WAhfRMjKPSa8aOwjtk/MgvKq+3HRygwN8X5R/Xmp21ZAAQFqG9Qmk8/RSIi0mru+59rfPJZ43oBhxYKyS4qrxWWB3eNIjYimJS+riDqPb1cpru3uWqe4xd+2onDaRnbO67esNzSAgMMn9w4DYAx7vHXMeGH6jKxXwIhgYf+t1tYYwETp9OyJDUbgN4JrqAdFqz/TTeF9x8PAjX3sviA/ksUEZFW8dS32zyr3N1zxggAurgfyNue4RqKccLwrlzsns+46mG6quWML3luMcXlrvfnFB/qic0rruDj1XsZ1zuOK4/p1/I30oBRvWJZfc+JnDa6B1B9irNxveN4+NzR3H/WSODQQiYAFQ4nKQ9+BcA543vx7W0z+edF4z0LlciR8W73mstjizSFhmSIiEiLczgt//x6KwBvXjvZczzJPcTisueXAHDG2J6cNroHA5IiueRo10Na3lOyfbxqL+v25vHqot2eY2PvnwfA0f0T2sRcxbE1lte+elp/np+/kxNHdqNrdBhnjevFPR+tZ3tGIbNxzfyxNDWb7CLXh4CxveMICgzgzLE9W73uHYX3T4F6mMUXFJhFRKTFpWUXU1bp5NFzxzB5wKEHsrp4TfkGrofcggIDuGb6AM+xSK/AfMf7a+u9xuhesT6sse/cffoI7j59hGc/NjyYuIhgXl20i+vcU9tVLd4yY0gXz7zR0nTBXg/6KTCLL2hIhoiItIjc4nLeXZ6OtZbN7mnVBneLqnZOUo3A3DU6rFY53j3M3ubdcqxn+3cnDeWOU4Y1t8qtJre4gvScEvLcwzI27y8gONDw4pUT6R5buw3kyJzgNWe3xTZwpkjjKDCLiEiLuPnNVfz2ndU8+OlG7nhvDQEGBnerPqew9xzJAIO6Vg/UUP+Db0O6RXvOv37mQIIC28//0k4f4xrjnFNcTl5xBe8sS+eMsT0JUG+oTwQFBvCHU10foI5wkUiROmlIhoiI+Nza9Dy+d6/g99z8nQCcNrpHvb3F4Hoorq4/n9c1Ljk53jWLxH+vmkhZpbNNjF0+EnPG9eKTNfvIL63g399vp9zhZMaQLv6uVocSGuT6MOZwKjFL8ykwi4iIT5RVOpj04NdcPa0/T3y5BYB/XzqBcofl41V7eejs0XW+745ThvHIZ5sY1zuu3rLn3jSd7RmF3PjGSgA+dS8Ikhwf4dubaCUx4a4HAz9etZc3l6YBhwKe+EZ4sKs9vRfGEWkqBWYREWk2ay1znlpAXkmFJyy/fs3RTBmYiDGmwRkfquZXjqsxu4S3ET1jGNEzhpIKBxP7JRAbXv+57UFV/at638X3hnZ3Df+pmqtbpDkUmEVEpEkKyyp5bdEuThnVg2e+387Gffme13onhHPMoKRGlVPi7gGMCDl8D+sFKb2bVtk2xntBkyoOpx5O86WqZchFfEGBWUREjlilw8klzy1mdVouD3+2yXN81T2zWbQju9ZsGA25dsYAUrOKuDClT0tUtU2KCavdQ16psbY+FRIUwOQBCYzs2TanG5T25bCB2RgTBvwAhLrPf9dae68xpj/wJpAILAcus9aW11+SiIh0BMt35fDHD9ayaX8Bg7pGeeYQfuaSCcRFhHDyqCObR7hrdBjPXTGxJaraZkWEBBIUYKh0Wib1S2BJana1+anFN968doq/qyAdRGN6mMuA4621hcaYYGC+MeYz4Fbgb9baN40x/wauBp5pwbqKiIgfVTic3PLWKjbszWdHZhEnj+zOPy4ax2dr9xMXEcxMLePcaMYYwoMDKSirZPrgJN6+TsFOpC07bGC21lqg0L0b7P5ngeOBi93HXwLuQ4FZRKRDSssu5rpXl7N+76Fxyv++7CgA5ozv5a9qtWtB7tXoosI0OlKkrWvULO/GmEBjzCrgIPAlsB3ItdZWuk9JB+r8jWmMudYYs8wYsywjI8MHVRYRkdb01LfbmP7ot2zYl8+FKb0JCQrgqqn9/F2tdq9qlcPIBuamFpG2oVH/lVprHcA4Y0wc8AHQ6PVHrbXPAs8CpKSk6BFgEZF2pKC0gv/8uIPIkECeumQCM4d25S/njfF3tTqE7rFhbD1Y2KjZQUTEv47oY621NtcY8y0wBYgzxgS5e5mTgT0tUUEREWk9mYVlPPDJBvbkljCxXwJfbTxAfkkFr15zNMcMbNw0cdI43WLCAMgtrvBzTUTkcBozS0YXoMIdlsOB2cBfgG+B83DNlHEF8FFLVlRERFpOdlE5byzZzWNfbPYcW5qaA8ADc0YpLLeAX0wfwLz1+5k5VEtii7R1jRnD3AP41hizBlgKfGmt/QT4PXCrMWYbrqnlnm+5aoqISHMcLCjlp22ZLNmZTXmlkyU7sykorWBVWi4AT3+7zROWR/eKZdOfT2ZQ1yh6xoZx0aTOMz9yaxraPZo1953Ubpf3FulMGjNLxhpgfB3HdwCTWqJSIiLiO5UOJyf//Ueyi+qeKv/nU/vz1cYDAAzuGsXLP59EWHAgH90wFQsEBphWrK2ISNujR3NFRNq5Nem5JEWF0jMuHIDySichQYf+gHjaP+eTXVTOySO7sy2j0LPQSJUXftoJwL1njOCqqf09xzV7g4iIi34bioi0Y3tySzjzyZ8AePic0azYlcM7y9MBWHbXCRzIL2XzgQIm9UvgqUsmeHqL+93xabVy7jl9BJdP6deqdRcRaS8UmEVE2qmySgdPf7vNs3/n+2urvT7tL98wpFs0AE9cOLba0IpXrp7EzswidmQUceyQJI4f1q11Ki0i0g4pMIuItFNPzNvCa4t3M75PHMnxEfxv9V4AbjlhCH/7agulFU7WpOfRPSaMnrHh1d47fXAXpg/W7AwiIo2hwCwi0o7kFpfz/PydLN+Vw5r0PI4b2oUXrpxISYWD/kmRXDq5D12jw0jLKeZd99CM/904jQA9uCci0mTG2tZbfC8lJcUuW7as1a4nItJRlFc6+eUry/h2c0a145/dPJ3hPWLqfM/+vFIW78zirHG9WqOKIiJthjFmubU2xVflqYdZRKSNW7k7h7OfXgBAl+hQesaGsTo9j7HJsfWGZXAtvaywLCLSfI1ZuERERPzohZ9SAbhp1mC+uW0Gf54zCoBzJiT7sVYiIp2HephFRPxk5e4cxibHsSOzkJ89u5hfHjuAsyf0Yu2ePBIiQkiODye3pIL/rd7LGWN7cuvsIQCMSY7jm9tm0D8p0s93ICLSOSgwi4j4wZr0XM8wiyoPzt3Ig3M31nn+NdP6V9sf0CWqxeomIiLVaUiGiEgrstbyzrI0z2IjVXrEhnm2zxzbk+tmDPTszx7RjbG941qriiIiUoN6mEVEWtHlLyzhx62ZABzdP4HHzhtLeEggiZEhzF23j7CgQKYPSSI0KJAzx/YkLDhAvckiIn6mwCwi0koWbs/ix62ZTBmQyKvXHF1t5T2A08f0rLY/omf9M2CIiEjr0ZAMEZFW4HBabn17Ff2TIvm/y4+qFZZFRKTtUg+ziEgLeu7HHWzYm09qVhH78kr596UTiAkL9ne1RETkCCgwi4i0gEqHk5VpuTzw6aFZL84c25PZI7r7sVYiItIUCswiIs3kcFoCDBhj+PtXW3hzSRr780s9r88a1pVRvWK5xT2PsoiItC8KzCIiTZSaWcTMv37n2Z82KIl1e/PILa5gXO84VqXl8ui5Y7hgYm//VVJERJpNgVlEOqTSCgcrduVw/ycbmDGkC8YYrpraj5iwYDYfKGBscixllU5eXbSLSyf3JSw48IjKzyosqxaWAeZvc00X9/QlEzh1dA9f3YqIiPiZArOIdChllQ5eW7Sb+z/Z4Dm2aX8BAP/+frvn2D9+No6MgjIe+HQjD3y6kT4JEfz70qPoHhtGQmQIS1OzGd4jhqjQQ78m03OKOfeZBQQHBnDC8G6e429eO5nIkCDOeHI+0wYlcdJIjVMWEelIjLW21S6WkpJily1b1mrXE5HOo6C0gtH3zat1/LTRPdhyoICtBwtrvRYdGkRBWWW1YxP7xTN7RDcemruJyyb35c9zRrEzs4iScgen/vPH6u8PC2LtfSd59ovLKwkPDsQYTRknIuJPxpjl1toUX5WnHmYRaffySioY+6dDYfmiSb2ZMaQr0wcnEenVQ1xS7qCwrJKJD34FQEFZJUlRoYQGBTCgSyQ/bs1kaWoOS1NzAJi7dh+3zB7CcV5DL/546nAenOua+WLKgMRq9YgI0a9UEZGOSL/dRaRds9byu3dWA3DiiG48ceG4asMovIWHBBIecmis8rDu0cy9aToB7kVEPly5h9+8tQqAyyb35ZVFu5jw5y8953ePCeMXxw5g4/583l+xhwfPHt1CdyUiIm2JArNIJ7dhbz6Pz9vMzScMZkxyHKUVDrKLyvlkzV725ZXyx1OHExTo/0VBSyscLNyeRWhwAMcMTPIczygoY96GA1w0qQ8Pn9O4APv7k4eRW1zOdTMGesIywJzxvThzbE9ySyqIjwjmQH4p8zYcAOC4oV24dHJfAB45Zwz3nzWq3mAuIiIdi37bi7QjB/NLufnNVUwbnMQNxw1qdnnr9uRx+r/mu7b35vHB9VM541/zySoq95yzcV8+vzx2IH0SIwgLDuTF+Tu5/eRhhAQ1L0Qv2ZlNUXklveMjuPz5xfRNjOTFqybWmq3iYEEpN72xkkU7sgEICw5g059P4bLnFzOyZ6znQb7jh3Vt9LV/NXNgva8FBBgSIkMAuPjoPszbcIDgQMOLV03ynBMSFNDs+xcRkfZDD/2J+Jm1tt6HxBxOS6BXD+hfPt/EM9+5AmJyfDgFpZX0iA1jUNcodmYW8erVRxPvDnuHsz2jkFmPfw/AsUO6sHhHFmWVTgDG9o5jdVpuve999rKjOLEZM0F4B3VvE/vF88KVE/lhSyavLErlv1dN4v5PNvD64t1A3Q/pVdn055OPeGq4wymrdHDZc0s4fWwPLp/Sz6dli4hIy9FDfyJt0PytmUzoG0dESBAH8kvZkVHElIGJtc77dM0+corLuWhSHwIDDB+u3MPv3l1NhcP1wfVPZ47kwom9cVrLiHu+AOCpiydw2pgelFY4PGEZID2nBHA98FY1bdpHq/Zw5dT+jarzl+6hBsO6R/PfKyfy23dX8/6KPQC8de1krnxxiadXt6Y097WbwlrLG0t2Vzt28sjuGAOfrdtfbaaLYXd/TkxYELOGdeX5KydS4XAy4c9fUlB6KDSPTY7lzWun+DwsA4QGBfL2dVN8Xq6IiLQvCswizfDe8nRucz9wFhoUwOYHTuGuD9fx5YYD3HvGCK6a2p9Kh5MDBWUUlVVyw+srALjrw3V1lnfvx+t55rvt1ZZVfuTzjZw6ujsfr94LwDXT+vPc/J0A3HLCEP721RZiw4PJK6kgs7C8znLrsju7mOjQID7/zbEAJMdHAK7e5bDgQJ6+5Ch+3JrBzW+u8rznqL7xbNyXz49bM7h6WuOCubdnvtvOXz7f5LnOjoOFWFxDJMb2jqPfHZ/Wek9+aSW9E1x1Cw4MYNU9J/LGkt38/autZBaW0ScxstqDfCIiIr6mwCzSBA6n5aUFqdUWxyirdPLTtkxPz+2Dn24kLiKY1Wl5/HdBar1l3X7yUHrFhfP4vC3szi6uFpZvPH4Q//pmG/3vnAu4Zmn442nDmTIwkW82HeTmEwbz82n9iA4LZtz988gvrWhU/T9atcczzKFKtPsBtgtSkgFIiAzhrHG9eOLLLezKKgbg3AnJ7Mgo5Ln5O/lo1R7OGterUdcD14eLqrAcExbEnHE9uapGb/jfLxzHb95axYgeMVw3cyA3vbESgDPGHlo1LzDAcOnkvry/Ip3MwjJ6xoY1ug4iIiJNocAs0gRvL0vzhOX5vz+OBduyuP29NVzy3GLPOZVOyy1vra72vn6JEaS6wyfAOeN7cf5RvekSHcpZ43qxM7PIM+fvVVP7cfb4Xvzrm22e87vFhmGMYdbwbsxyrzQXHRYMQExYMPklDQdmh9Py5082eAJ8r7hwz2uXTu5LbEQw505Irvae/904jeW7cvh41V4uSEkmNauY5+bv5JWFuxoVmCsdTlan53p64hfdOYvu9YTcOeN7MWf8oTKnD0oiwBhiI4JrnTuoaxQrdueqd1lERFqcArN0WpUOJ8UVDsKCAgkONBhjWLE7hz/9bwMVlU5eu+bQA3T78kr4ZPU+Th7VnZCgAL7ccICw4ACW/vEEosOCOXNcKLe/t8ZT9qWT+/DqIlcPbkJkCB//eiov/pTKz6f1p6iskg9X7mFXVjGPnjem2pRt/ZMiWXDH8USGBBEbEYy1likDEhnfJ443l6bxi+n1D4OICQ8it6SCvJIKYsNdAXP+1kw+W7ePP505kqDAAD5cuccTlmcN68oj547xvD88JJALUnrXLjcsmOOGduW4oa5ZKAZ1jWJscmy1BUHqU1xeyWn/nM/OzCIAXrgypd6wXJeGHmA8P6U3by9LZ3Sv2EaXJyIi0hQKzNIp7ckt4dLnFnuC3PHDunLr7CGc8/QCzznPz9/J7uxiHjt/DNe9spzV6Xks35XD5+v3A64px6p6d8OCA7l19hCe+HIL/7k8hRlDXHP2rknLY874XoQEBXD36SM8Zd9+8rB669bTq9fXGMMb104+7HvAFWy/25zB2D/NY+5N0+mfFMmNb6wgp7iCqLAgbps91NPLO6hrFL89aShdokOPpNk8YiNC2HqggO0ZhQzsEgVAYVklQQGm2sN3by1N87QxQEq/hCZdry4T+yWw6p7ZxEU0blYQERGRplJglk5n5e4czn56Ad4zuX2z6SBVu4+eN4ZHPtvEk9+6hkLMGNLFM4yiKiwDjO8dV63cG48fxJxxveiT6HpAbVj3GIZ1j2mx+6gpJuzQsIWfPbuQfK+ZJP7v+x1M6BMPuHqxv7p1RrOuFRcezN68UmY9/j2pj5zGqrRc5jz1E6eO7s7TlxwFwFPfbuOxLzYDcM/pI5g+OKlaHX1BYVlERFqDArN0Ghv35XPPR+tYmpoDwMNnj2ZMchw5xeVc8txivt50EGNgzrheOJyWO99fC+DplfV22+whnDG2Z7VjxhhPWPaHHnGHhjp4h+UJfeJYsTuXuz9cR1CAYd4txzb7WlW9ygCPz9vsGWc9d+1+rLW8syzdE5YBpg5KYnC36GZfV0RExB+0VJV0Cnd9uJZT/vEjS1NzuGpqP568eDw/m9SHET1jmDLg0HzJCREhhAQFcOroHrXKuGpqPwAuTOnNjbMGt8i8v83RLzGy1rF/XTSe9351DP0SIzhYUEZSVCjBPljm+opj+h66htdDiQDfb8moNp77xasmMrS7wrKIiLRf6mGWdsfhtBSVV1Jc5sBiCQsK5O6P1nHyqO6cOqoHAQHVV82z1vLRStccxv/42bhaMzsEBBjuPWMEf/rfBs+S0LHhwVw0qQ9JUSG8uTSNu08fwZlje/Lzqf1Jjg+nLeqXVD0wP3beGE8v+FF9E0jNKiYxyjdDGOIiQrggJZm3l6XXeu1gfhldo0MpKK1kw/0n1buKoYiISHuhwCztyoJtmdz3v/VsOVBY67VP1uyjb+JmvrxlBiFBh3pR/7dmHwVlldx/1sh6p0G78ph+/Ol/G6ode/ic0QDcduJQz7GqBTTaon5ew0Hm3jSdET0PjZ8e3sPVw+vLGSUePmcM6TklLNieBcADc0Zx14frWLA9k4MFZdx/1kiFZRER6RAUmKVNqHQ4eX7+TiYPSCQkKICconJeXriLi4/uw7FDugBQVFbJVf9dSlmlk1nDuhIQYDyLhFTZlVXMkLs+IzIkkAV3zqKswuFZ/OKcGvMLezPG8MQFY+nThgPx4XjPqewdlgGOHdKFhO+2c9LI7j67XmCA4fVfTObzdfuZOiiRqNAgHvx0Ix+ucvXmnzW28YuaiIiItGUKzNImPPzZJp53L/fs7fP1+/nDqcO49tiBPPXtNsoqnbx73RTP9GSlFQ62HSwkKjSIm95cyZr0PACKyh28syzNM8Ti8il9iTrMvMENBer2ICgwgG4xoXWG4iHdollx9+wWue7Jow5d77hhXZi71jWTSF2LjYiIiLRHhw3MxpjewMtAN8ACz1pr/2GMSQDeAvoBqcAF1tqclquqdBTllU7eXLqb5PhwXl+cxlcbD9R53qxhXfl600Fe/CmVId2iefq77ZwzoVe1uXzDggMZ5R5m8PGvp/H64t384QPX7BYOp+WZ77YDcMcpDc9h3FEs/sMJfr3+HScPZ+7a/cwe0c2v9RAREfGlxvQwVwK3WWtXGGOigeXGmC+BK4GvrbWPGGPuAO4Aft9yVZWOoNLh5NHPN/FcHb3JH1x/DMN7xOBwWpbvyuHYIV045R8/snFfPle+uBSAn0+tf6U7cC0mMmNoF6Y+8g35pYeWiY4I0R9TWkOfxAhSHznN39UQERHxqcOmCGvtPmCfe7vAGLMR6AWcBcx0n/YS8B0KzNKArMIyjnrgKwDiIoLJLa5gbHIsfzlvDD1iwz3LOQOeccvXzRjAzW+uAuB3Jw319CY3pFdcOAOSInlraRoAt5889DDvEBEREanfEXW7GWP6AeOBxUA3d5gG2I9ryIZ0YCXlDuZvy2RCnzgSoxq/pLLTaSksr+TUf/4IwCVH9+GW2UOIDAkiPKThuYzPGteLmUO68s7yNK46TO+yt+OGdfWMib50ct/DnC0iIiJSv0YHZmNMFPAe8Btrbb73dFHWWmuMsfW871rgWoA+ffo0r7biN3nFFZz/fwuqTec2fXAST18ygWteWsbFR/epNWVbek4xi3Zkc/u7q3G6fzoeP38s5x51ZA/XxUYEc830AUf0ngtSevP8/J2M7xPn8+WYRUREpHMx1taZc6ufZEww8AnwhbX2CfexzcBMa+0+Y0wP4DtrbYN/+05JSbHLli3zQbWlJVT9LHh/GMosLOPhuZt4b0XtBSpq+sfPxjE2OY6Zf/2OkMAAyh3OWufsfPjUVpubNy27mJCgALrFhB3+ZBEREekwjDHLrbUpviqvMbNkGOB5YGNVWHb7GLgCeMT99SNfVUpaXkFpBe8sS2dS/wR6J0Tw7A/b+c+PO0npG8/rv5gMwNLUbM7/98Jq77v3jBE89+NO9uSW1Crz5jdXEe+eSqzc4SQhMgRrLYO7RRMSGMAtswe36kIWbXmREREREWk/GjMkYypwGbDWGLPKfewPuILy28aYq4FdwAUtUkPxuaWp2Vz5whKKyh21XluwPYvSCgdhwYE8+vkmALpGh/L8FRMZnex64O7MsT1xWEulw3Lp84uZOjCJVxbtAiCnuILbZg+hoKySm2cNJvIwcx+LiIiItHWNmSVjPlBft+As31ZHWkJ5pZPcknLSc0roERvGFS8sISEyhC7RhtSsYs95F6b05q1laXy6Zh8lFQ6WpuZwzbT+3HX6iGrleT/w981tM6lwOD2BOSQwgBuOG0RAgJZEFhERkY5B3X8d1Lo9eRSVVfLg3I2e1e+8vX99CsO6x1BYVsnB/FK+2XSQKQMTeWtZGre9sxqAqNAgfnvS4adkCw4M4ONfT+Wsp37i7jNGKCyLiIhIh6LA3AGVVzo5/V/zPftJUSFkFpZXO2dY9xjAFYqjukQxoEsUAJEhgZ6hGhP6xhMW3PC0b1XGJMex9YFTCAoM8MUtiIiIiLQZCswdxPJdOTzy2Ua2Hiwkt/jQCnfTBiXxytWTWL83n7ySCl78KZWbZg2qt5xV957I4D9+BlBtIZHGUFgWERGRjkiBuZ2z1nLn+2t5072qXZVh3aN57ooU4iNCMMZ4VsibOiipwfKCAwN4//pjuPg/i7jjlGEtVm8RERGR9kKBuZ37fN1+T1j+6tZj2Z9Xxj0frePdXx1DVBNnqJjQJ55Nfz7Fl9UUERERabf0N/R2Ir+0gpP+9gPP/rDdc6yorJJfvbYCgE1/PplBXaOZNjiJb347s8lhWURERESqU6pqAxxOy+b9BfRJjKg36C7YlsXmAwU8NHcTD811zY/cJdo1vVtUaFCjH84TERERkSOjwOwnlQ4nm/YXsHFfPl+s389XGw8Crgftnr8ihZR+CZ5z//vTTh6cu5Go0CCO7p/A15tc52YUlAHw4Q3HtP4NiIiIiHQSCsw+Ul7p5O1laYQEBXBBSu8Gz/10zT5ueH1Fna/llVTw96+2Mjo5lqP7J1BYVsn9n2xgUv8E/nbhOHrEhpNRUMZzP+7g/37YwbkTkhnUNbolbklEREREUGD2mXOe+Yl1e/IBuP3dNZx3VDIPnT2a4EDDkp3ZDOseQ2yEa5q2D1amA3DRpN7EhAXjcFpmDO3C9MFduPg/i5i/LZP52zJ55jvXeOU+CRG8cOVEIkJc364u0aHcMnsIxeUOLj66jx/uVkRERKTzMNbaVrtYSkqKXbZsWatdrzVYaxn0x89wOF3tGBIYQLnDWeu8k0d259+XHcUX6/fzy1eWc95Ryfz1/LG1ztt6oIDHvtjMvA0HPMde+vkkZgzp0nI3ISIiItKBGGOWW2tTfFWeepibwVrLlS8uxeG0BAYYfrz9OOIjQnhpYSqPfLap2rk7M4u4+c2VfLRqL8nx4fzmhMF1ljm4WzTPXp5CdlE57yxL44KU3sRHhrTG7YiIiIhIHRSYj0Clw8mC7VlMHpBIhcPJ1S8tZdGObM4c25O/XziOgAADwC+PHUBeSYVnSAXA5gMFbD5QAMAbv5hMcnxEg9dKiAzhlzMGttzNiIiIiEijKDA3QmZhGbnF5fywJZP7P9kAwKCuUWw7WAjAL6YP8IRlAGMMt580lFtOGEJIUAD3fLSOlxfuAuDH24+jd0LDYVlERERE2g4F5jrszCzi41V7Wb83r9pYYm/bDhYyuGsU954xktHJsbVeN8YQEuQK0feeMZKQwABGJ8cqLIuIiIi0MwrMbgWlFUSHBbN+bx7nPrOA0oraD+4BnDKqO5+t2w/AF785tlrPcn0CAwx3nT7Cp/UVERERkdbRaQNzQWkFWw4U8tqiXZRWOpi7dj+nje7Bp2v3AfDaNUfjcFo+XLWHu08bQVxEMHklFcRFhLB4RxbdYsIaFZZFREREpH3rVIE5r6SC95ane8YhVwkNCgDwhOX/XJ7C1EFJABzrNZ1bXIRrtoqjByS2RnVFREREpA3o8IF5+a4cLnp2Ecnx4ezILKr1+qheMXxy43Se/GYrf523hZNHdmf2iG5+qKmIiIiItEUdPjCvTc+l3OFkR2YRXaJDOXlkd/542nDCggNJyy6me2wYAL8+fjCzR3QnOT7czzUWERERkbakU6z0l1NUTrnDSbeYsFa/toiIiIi0Lq301wRaKU9EREREmirA3xUQEREREWnLFJhFRERERBqgwCwiIiIi0gAFZhERERGRBigwi4iIiIg0QIFZRERERKQBCswiIiIiIg1QYBYRERERaYACs4iIiIhIAxSYRUREREQaYKy1rXcxYzKAXa12wUOSgEw/XLc9UNvUT21TP7VN/dQ29VPb1E9tUz+1Tf3UNvUbaq2N9lVhQb4qqDGstV1a83pVjDHLrLUp/rh2W6e2qZ/apn5qm/qpbeqntqmf2qZ+apv6qW3qZ4xZ5svyNCRDRERERKQBCswiIiIiIg3oLIH5WX9XoA1T29RPbVM/tU391Db1U9vUT21TP7VN/dQ29fNp27TqQ38iIiIiIu1NZ+lhFhERERFpknYZmI0xvY0x3xpjNhhj1htjbnYfTzDGfGmM2er+Gu8+PswYs9AYU2aM+a1XOWHGmCXGmNXucv7kr3vyFV+1jVd5gcaYlcaYT1r7XnzNl21jjEk1xqw1xqzy9ZO4/uDjtokzxrxrjNlkjNlojJnij3vyFR/+vhnq/nmp+pdvjPmNn27LJ3z8c3OLu4x1xpg3jDFh/rgnX/Fx29zsbpf17f1nBprUNpcYY9a4f+cuMMaM9SrrZGPMZmPMNmPMHf66J1/xcdu8YIw5aIxZ56/78SVftU195RyWtbbd/QN6ABPc29HAFmAE8Chwh/v4HcBf3NtdgYnAg8BvvcoxQJR7OxhYDEz29/21hbbxKu9W4HXgE3/fW1tqGyAVSPL3PbXRtnkJuMa9HQLE+fv+2krbeJUZCOwH+vr7/tpC2wC9gJ1AuHv/beBKf99fG2mbUcA6IALXVLBfAYP8fX+t3DbHAPHu7VOAxe7tQGA7MMD9u2Y1MMLf99cW2sa9fywwAVjn7/tqS21TXzmHu3677GG21u6z1q5wbxcAG3H9wj0L1/+scX+d4z7noLV2KVBRoxxrrS107wa7/7XrQd2+ahsAY0wycBrwXMvXvOX5sm06Gl+1jTEmFtcv6efd55Vba3Nb4RZaTAv93MwCtltr/bGQk8/4uG2CgHBjTBCucLi3ZWvfsnzYNsNx/Y++2FpbCXwPnNPyd9BymtA2C6y1Oe7ji4Bk9/YkYJu1doe1thx4011Gu+XDtsFa+wOQ3To1b3m+apsGymlQuwzM3owx/YDxuHqHu1lr97lf2g90a8T7A40xq4CDwJfW2sUtVNVW19y2Af4O3A44W6J+/uSDtrHAPGPMcmPMtS1TS/9oZtv0BzKAF41rKM9zxpjIFqtsK/PBz02VnwFv+LZ2/tWctrHW7gH+CuwG9gF51tp5LVfb1tXMn5t1wHRjTKIxJgI4FejdUnVtbU1om6uBz9zbvYA0r9fSaUTwaS+a2TYdmq/apkY5DWrXgdkYEwW8B/zGWpvv/Zp19bUftrfYWuuw1o7D9cljkjFmVEvUtbU1t22MMacDB621y1uulv7hi58bYJq1dgKuP/PcYIw51vc1bX0+aJsgXH8CfMZaOx4owvUnsnbPRz83GGNCgDOBd3xeST/xwe+beFy9RP2BnkCkMebSFqpuq2pu21hrNwJ/AeYBnwOrAEeLVLaVHWnbGGOOwxV8ft9qlfQTtU39fNU2DZVTl3YbmI0xwbhu9DVr7fvuwweMMT3cr/fA1WvcKO4/G38LnOzjqrY6H7XNVOBMY0wqrj9zHW+MebWFqtxqfPVz4+4Rw1p7EPgA158G2zUftU06kO71l5p3cQXods3Hv29OAVZYaw/4vqatz0dtcwKw01qbYa2tAN7HNf6wXfPh75vnrbVHWWuPBXJwjbls1460bYwxY3ANDzzLWpvlPryH6r3tye5j7ZqP2qZD8lXb1FNOg9plYDbGGFxjJDdaa5/weulj4Ar39hXAR4cpp4sxJs69HQ7MBjb5vMKtyFdtY62901qbbK3th+vPx99Ya9t1j48Pf24ijTHRVdvAibj+bNpu+fDnZj+QZowZ6j40C9jg4+q2Kl+1jZeL6CDDMXzYNruBycaYCHeZs3CNK2y3fPlzY4zp6v7aB9f45dd9W9vWdaRt477v94HLrLXeHxaWAoONMf3df7n5mbuMdsuHbdPh+KptGiinYbYNPPl4pP+Aabi63Nfg+vPUKlzjuhKBr4GtuJ4kTnCf3x1Xz1c+kOvejgHGACvd5awD7vH3vbWVtqlR5kw6xiwZvvq5GYDraezVwHrgj/6+t7bSNu7XxgHL3GV9iPsp5fb6z8dtEwlkAbH+vq822DZ/wtVhsQ54BQj19/21obb5EdcHz9XALH/fmx/a5jlcPetV5y7zKutUXD3u2+mcv4sbaps3cD0TUOH+ebra3/fXFtqmvnIOd32t9CciIiIi0oB2OSRDRERERKS1KDCLiIiIiDRAgVlEREREpAEKzCIiIiIiDVBgFhERERFpgAKziIiIiEgDFJhFRERERBqgwCwiIiIi0oD/BwRbu/dfC+quAAAAAElFTkSuQmCC\n",
      "text/plain": [
       "<Figure size 864x360 with 1 Axes>"
      ]
     },
     "metadata": {
      "needs_background": "light"
     },
     "output_type": "display_data"
    }
   ],
   "source": [
    "plt.figure(figsize=(12, 5))\n",
    "plt.plot(dataset.iloc[:, 0])\n",
    "plt.title(\"Precio histórico de {}\".format(dataset.columns[0]))\n",
    "plt.show()"
   ]
  },
  {
   "cell_type": "markdown",
   "metadata": {},
   "source": [
    "# Formulación del problema"
   ]
  },
  {
   "cell_type": "markdown",
   "metadata": {},
   "source": [
    "A continuación vamos a definir que significa cada variable del problema de optimización a resolver:"
   ]
  },
  {
   "cell_type": "markdown",
   "metadata": {},
   "source": [
    "- $n :$ numero de activos en el portafolio.\n",
    "- $T :$ periodo de tiempo durante el cual compro/vendo los activos de mi portafolio.\n",
    "- $p_i = \\frac{s_1^{(i)}}{s_0^{(i)}} :$ cambio de precio relativo del activo $i$ durante el periodo $T$, donde $s_0^{(i)}$ es el precio inicial y $s_1^{(i)}$ es el precio al final del periodo $T$.\n",
    "- $w \\in \\textbf{R}^n :$ vector que tiene los pesos que se le asignan a cada activo del portafolio.\n",
    "  Se le asigna el peso $w_i$ al activo $i$ para $i=1, 2, ..., n$.\n",
    "- $x_i :$ cantidad de acciones compradas/vendidas del activo $i$.\n",
    "- $\\sum_{i=1}^n x_i :$ capital total disponible.\n",
    "- $r_i=p_ix_i :$ retorno del activo $i$.\n",
    "- $R(w) = p^Tx :$ retorno total de portafolio.\n",
    "- $\\overline{r} = \\overline{p}^Tx :$ media del vector $r$ (promedio de los retornos).\n",
    "- $E(p) = \\overline{p} :$ media del vector $p$\n",
    "- $E((p-\\overline{p})(p-\\overline{p})^T) = \\Sigma :$ matriz de varianzas y covarianzas de los cambios de precio relativos de los activos.\n",
    "- $\\sigma_r^2 = x^T\\Sigma x :$ varianza de los retornos del portafolio (riesgo de los retornos).\n",
    "- Todos los pesos del portafolio deben sumar uno, esto es $\\textbf{1}^Tw=1$.\n"
   ]
  },
  {
   "cell_type": "markdown",
   "metadata": {},
   "source": [
    "Para este problema básicamente buscamos dos objetivos: minimizar el riesgo y maximizar las ganancias del portafolio, esto lo logramos asignando los pesos del vector $w$ de manera estratégica teniendo en cuenta que los retornos de cada activo no son los mismos, es decir hay activos que a la fecha han tenido un retorno mayor o menor respecto a otros y con caídas de mayor o menor porcentaje respecto a otros activos. "
   ]
  },
  {
   "cell_type": "markdown",
   "metadata": {},
   "source": [
    "donde $SR(w)$ es el **Sharpe Ratio** del portafolio que se define asi:\n",
    "$$\n",
    "\\\\\n",
    "SR(w) = \\frac{R(w)}{\\sigma(w)}\n",
    "$$"
   ]
  },
  {
   "cell_type": "markdown",
   "metadata": {},
   "source": [
    "Maximizar esta función es equivalente a **minimizar su negativa**, por lo tanto nuestro problema de optimización queda formulado como:"
   ]
  },
  {
   "cell_type": "markdown",
   "metadata": {},
   "source": [
    "$$\n",
    "\\begin{array}{cr}\n",
    "\\mbox{minimizar}     & -SR(w)  \\\\\n",
    "\\mbox{sujeto a}     & 0 \\leq w_i \\leq 1, \\ \\ i=1, 2, ..., n \\\\\n",
    "& \\textbf{1}^Tw = 1 \\\\\n",
    "\\end{array} \\\\\n",
    "$$"
   ]
  },
  {
   "cell_type": "markdown",
   "metadata": {},
   "source": [
    "# Solución computacional"
   ]
  },
  {
   "cell_type": "markdown",
   "metadata": {},
   "source": [
    "En este caso vamos a utilizar al paquete <code>scipy</code> para solucionar el problema de optimización convexo."
   ]
  },
  {
   "cell_type": "code",
   "execution_count": 6,
   "metadata": {},
   "outputs": [],
   "source": [
    "from scipy.optimize import minimize"
   ]
  },
  {
   "cell_type": "markdown",
   "metadata": {},
   "source": [
    "Recordemos que ya tenemos nuestro conjunto de datos <code>dataset</code>:"
   ]
  },
  {
   "cell_type": "code",
   "execution_count": 7,
   "metadata": {},
   "outputs": [
    {
     "data": {
      "text/html": [
       "<div>\n",
       "<style scoped>\n",
       "    .dataframe tbody tr th:only-of-type {\n",
       "        vertical-align: middle;\n",
       "    }\n",
       "\n",
       "    .dataframe tbody tr th {\n",
       "        vertical-align: top;\n",
       "    }\n",
       "\n",
       "    .dataframe thead th {\n",
       "        text-align: right;\n",
       "    }\n",
       "</style>\n",
       "<table border=\"1\" class=\"dataframe\">\n",
       "  <thead>\n",
       "    <tr style=\"text-align: right;\">\n",
       "      <th></th>\n",
       "      <th>SPYG</th>\n",
       "      <th>QQQ</th>\n",
       "      <th>VUG</th>\n",
       "      <th>IYW</th>\n",
       "      <th>VOO</th>\n",
       "      <th>VTI</th>\n",
       "    </tr>\n",
       "  </thead>\n",
       "  <tbody>\n",
       "    <tr>\n",
       "      <th>2013-01-02</th>\n",
       "      <td>14.894196</td>\n",
       "      <td>61.922443</td>\n",
       "      <td>66.147682</td>\n",
       "      <td>16.789381</td>\n",
       "      <td>113.875282</td>\n",
       "      <td>64.170731</td>\n",
       "    </tr>\n",
       "    <tr>\n",
       "      <th>2013-01-03</th>\n",
       "      <td>14.843247</td>\n",
       "      <td>61.599972</td>\n",
       "      <td>65.957527</td>\n",
       "      <td>16.667387</td>\n",
       "      <td>113.772995</td>\n",
       "      <td>64.076782</td>\n",
       "    </tr>\n",
       "    <tr>\n",
       "      <th>2013-01-04</th>\n",
       "      <td>14.887553</td>\n",
       "      <td>61.397213</td>\n",
       "      <td>66.174850</td>\n",
       "      <td>16.549992</td>\n",
       "      <td>114.250328</td>\n",
       "      <td>64.401299</td>\n",
       "    </tr>\n",
       "    <tr>\n",
       "      <th>2013-01-07</th>\n",
       "      <td>14.854324</td>\n",
       "      <td>61.415668</td>\n",
       "      <td>66.048058</td>\n",
       "      <td>16.520073</td>\n",
       "      <td>113.943497</td>\n",
       "      <td>64.230492</td>\n",
       "    </tr>\n",
       "    <tr>\n",
       "      <th>2013-01-08</th>\n",
       "      <td>14.836607</td>\n",
       "      <td>61.295872</td>\n",
       "      <td>65.912239</td>\n",
       "      <td>16.464823</td>\n",
       "      <td>113.602562</td>\n",
       "      <td>64.059700</td>\n",
       "    </tr>\n",
       "    <tr>\n",
       "      <th>...</th>\n",
       "      <td>...</td>\n",
       "      <td>...</td>\n",
       "      <td>...</td>\n",
       "      <td>...</td>\n",
       "      <td>...</td>\n",
       "      <td>...</td>\n",
       "    </tr>\n",
       "    <tr>\n",
       "      <th>2021-07-26</th>\n",
       "      <td>66.180000</td>\n",
       "      <td>368.489990</td>\n",
       "      <td>299.859985</td>\n",
       "      <td>103.959999</td>\n",
       "      <td>405.410004</td>\n",
       "      <td>227.919998</td>\n",
       "    </tr>\n",
       "    <tr>\n",
       "      <th>2021-07-27</th>\n",
       "      <td>65.580002</td>\n",
       "      <td>364.429993</td>\n",
       "      <td>297.049988</td>\n",
       "      <td>102.669998</td>\n",
       "      <td>403.609985</td>\n",
       "      <td>226.690002</td>\n",
       "    </tr>\n",
       "    <tr>\n",
       "      <th>2021-07-28</th>\n",
       "      <td>65.650002</td>\n",
       "      <td>365.829987</td>\n",
       "      <td>297.790009</td>\n",
       "      <td>103.120003</td>\n",
       "      <td>403.390015</td>\n",
       "      <td>227.039993</td>\n",
       "    </tr>\n",
       "    <tr>\n",
       "      <th>2021-07-29</th>\n",
       "      <td>65.779999</td>\n",
       "      <td>366.480011</td>\n",
       "      <td>298.070007</td>\n",
       "      <td>103.400002</td>\n",
       "      <td>405.130005</td>\n",
       "      <td>228.039993</td>\n",
       "    </tr>\n",
       "    <tr>\n",
       "      <th>2021-07-30</th>\n",
       "      <td>65.370003</td>\n",
       "      <td>364.570007</td>\n",
       "      <td>295.940002</td>\n",
       "      <td>103.190002</td>\n",
       "      <td>403.149994</td>\n",
       "      <td>226.690002</td>\n",
       "    </tr>\n",
       "  </tbody>\n",
       "</table>\n",
       "<p>2160 rows × 6 columns</p>\n",
       "</div>"
      ],
      "text/plain": [
       "                 SPYG         QQQ         VUG         IYW         VOO  \\\n",
       "2013-01-02  14.894196   61.922443   66.147682   16.789381  113.875282   \n",
       "2013-01-03  14.843247   61.599972   65.957527   16.667387  113.772995   \n",
       "2013-01-04  14.887553   61.397213   66.174850   16.549992  114.250328   \n",
       "2013-01-07  14.854324   61.415668   66.048058   16.520073  113.943497   \n",
       "2013-01-08  14.836607   61.295872   65.912239   16.464823  113.602562   \n",
       "...               ...         ...         ...         ...         ...   \n",
       "2021-07-26  66.180000  368.489990  299.859985  103.959999  405.410004   \n",
       "2021-07-27  65.580002  364.429993  297.049988  102.669998  403.609985   \n",
       "2021-07-28  65.650002  365.829987  297.790009  103.120003  403.390015   \n",
       "2021-07-29  65.779999  366.480011  298.070007  103.400002  405.130005   \n",
       "2021-07-30  65.370003  364.570007  295.940002  103.190002  403.149994   \n",
       "\n",
       "                   VTI  \n",
       "2013-01-02   64.170731  \n",
       "2013-01-03   64.076782  \n",
       "2013-01-04   64.401299  \n",
       "2013-01-07   64.230492  \n",
       "2013-01-08   64.059700  \n",
       "...                ...  \n",
       "2021-07-26  227.919998  \n",
       "2021-07-27  226.690002  \n",
       "2021-07-28  227.039993  \n",
       "2021-07-29  228.039993  \n",
       "2021-07-30  226.690002  \n",
       "\n",
       "[2160 rows x 6 columns]"
      ]
     },
     "execution_count": 7,
     "metadata": {},
     "output_type": "execute_result"
    }
   ],
   "source": [
    "dataset"
   ]
  },
  {
   "cell_type": "markdown",
   "metadata": {},
   "source": [
    "Creamos el conjunto de datos <code>returns</code> a partir de nuestro conjunto de datos original."
   ]
  },
  {
   "cell_type": "code",
   "execution_count": 8,
   "metadata": {},
   "outputs": [
    {
     "data": {
      "text/html": [
       "<div>\n",
       "<style scoped>\n",
       "    .dataframe tbody tr th:only-of-type {\n",
       "        vertical-align: middle;\n",
       "    }\n",
       "\n",
       "    .dataframe tbody tr th {\n",
       "        vertical-align: top;\n",
       "    }\n",
       "\n",
       "    .dataframe thead th {\n",
       "        text-align: right;\n",
       "    }\n",
       "</style>\n",
       "<table border=\"1\" class=\"dataframe\">\n",
       "  <thead>\n",
       "    <tr style=\"text-align: right;\">\n",
       "      <th></th>\n",
       "      <th>SPYG</th>\n",
       "      <th>QQQ</th>\n",
       "      <th>VUG</th>\n",
       "      <th>IYW</th>\n",
       "      <th>VOO</th>\n",
       "      <th>VTI</th>\n",
       "    </tr>\n",
       "  </thead>\n",
       "  <tbody>\n",
       "    <tr>\n",
       "      <th>2013-01-03</th>\n",
       "      <td>-0.003427</td>\n",
       "      <td>-0.005221</td>\n",
       "      <td>-0.002879</td>\n",
       "      <td>-0.007293</td>\n",
       "      <td>-0.000899</td>\n",
       "      <td>-0.001465</td>\n",
       "    </tr>\n",
       "    <tr>\n",
       "      <th>2013-01-04</th>\n",
       "      <td>0.002980</td>\n",
       "      <td>-0.003297</td>\n",
       "      <td>0.003289</td>\n",
       "      <td>-0.007068</td>\n",
       "      <td>0.004187</td>\n",
       "      <td>0.005052</td>\n",
       "    </tr>\n",
       "    <tr>\n",
       "      <th>2013-01-07</th>\n",
       "      <td>-0.002234</td>\n",
       "      <td>0.000301</td>\n",
       "      <td>-0.001918</td>\n",
       "      <td>-0.001809</td>\n",
       "      <td>-0.002689</td>\n",
       "      <td>-0.002656</td>\n",
       "    </tr>\n",
       "    <tr>\n",
       "      <th>2013-01-08</th>\n",
       "      <td>-0.001193</td>\n",
       "      <td>-0.001952</td>\n",
       "      <td>-0.002058</td>\n",
       "      <td>-0.003350</td>\n",
       "      <td>-0.002997</td>\n",
       "      <td>-0.002663</td>\n",
       "    </tr>\n",
       "    <tr>\n",
       "      <th>2013-01-09</th>\n",
       "      <td>0.001939</td>\n",
       "      <td>0.003751</td>\n",
       "      <td>0.003703</td>\n",
       "      <td>0.002514</td>\n",
       "      <td>0.002997</td>\n",
       "      <td>0.003062</td>\n",
       "    </tr>\n",
       "    <tr>\n",
       "      <th>...</th>\n",
       "      <td>...</td>\n",
       "      <td>...</td>\n",
       "      <td>...</td>\n",
       "      <td>...</td>\n",
       "      <td>...</td>\n",
       "      <td>...</td>\n",
       "    </tr>\n",
       "    <tr>\n",
       "      <th>2021-07-26</th>\n",
       "      <td>0.001058</td>\n",
       "      <td>0.000787</td>\n",
       "      <td>0.000934</td>\n",
       "      <td>0.000674</td>\n",
       "      <td>0.002544</td>\n",
       "      <td>0.002020</td>\n",
       "    </tr>\n",
       "    <tr>\n",
       "      <th>2021-07-27</th>\n",
       "      <td>-0.009108</td>\n",
       "      <td>-0.011079</td>\n",
       "      <td>-0.009415</td>\n",
       "      <td>-0.012486</td>\n",
       "      <td>-0.004450</td>\n",
       "      <td>-0.005411</td>\n",
       "    </tr>\n",
       "    <tr>\n",
       "      <th>2021-07-28</th>\n",
       "      <td>0.001067</td>\n",
       "      <td>0.003834</td>\n",
       "      <td>0.002488</td>\n",
       "      <td>0.004373</td>\n",
       "      <td>-0.000545</td>\n",
       "      <td>0.001543</td>\n",
       "    </tr>\n",
       "    <tr>\n",
       "      <th>2021-07-29</th>\n",
       "      <td>0.001978</td>\n",
       "      <td>0.001775</td>\n",
       "      <td>0.000940</td>\n",
       "      <td>0.002712</td>\n",
       "      <td>0.004304</td>\n",
       "      <td>0.004395</td>\n",
       "    </tr>\n",
       "    <tr>\n",
       "      <th>2021-07-30</th>\n",
       "      <td>-0.006252</td>\n",
       "      <td>-0.005225</td>\n",
       "      <td>-0.007172</td>\n",
       "      <td>-0.002033</td>\n",
       "      <td>-0.004899</td>\n",
       "      <td>-0.005938</td>\n",
       "    </tr>\n",
       "  </tbody>\n",
       "</table>\n",
       "<p>2159 rows × 6 columns</p>\n",
       "</div>"
      ],
      "text/plain": [
       "                SPYG       QQQ       VUG       IYW       VOO       VTI\n",
       "2013-01-03 -0.003427 -0.005221 -0.002879 -0.007293 -0.000899 -0.001465\n",
       "2013-01-04  0.002980 -0.003297  0.003289 -0.007068  0.004187  0.005052\n",
       "2013-01-07 -0.002234  0.000301 -0.001918 -0.001809 -0.002689 -0.002656\n",
       "2013-01-08 -0.001193 -0.001952 -0.002058 -0.003350 -0.002997 -0.002663\n",
       "2013-01-09  0.001939  0.003751  0.003703  0.002514  0.002997  0.003062\n",
       "...              ...       ...       ...       ...       ...       ...\n",
       "2021-07-26  0.001058  0.000787  0.000934  0.000674  0.002544  0.002020\n",
       "2021-07-27 -0.009108 -0.011079 -0.009415 -0.012486 -0.004450 -0.005411\n",
       "2021-07-28  0.001067  0.003834  0.002488  0.004373 -0.000545  0.001543\n",
       "2021-07-29  0.001978  0.001775  0.000940  0.002712  0.004304  0.004395\n",
       "2021-07-30 -0.006252 -0.005225 -0.007172 -0.002033 -0.004899 -0.005938\n",
       "\n",
       "[2159 rows x 6 columns]"
      ]
     },
     "execution_count": 8,
     "metadata": {},
     "output_type": "execute_result"
    }
   ],
   "source": [
    "returns = dataset/dataset.shift(1)\n",
    "returns.dropna(inplace=True)\n",
    "returns = np.log(returns)\n",
    "returns"
   ]
  },
  {
   "cell_type": "code",
   "execution_count": 9,
   "metadata": {},
   "outputs": [],
   "source": [
    "n = len(returns.columns)\n",
    "pBar = returns.mean()\n",
    "Sigma = returns.cov()"
   ]
  },
  {
   "cell_type": "markdown",
   "metadata": {},
   "source": [
    "Ahora que hemos definido la matriz de varianzas y covarianzas, recordamos nuestro problema de optimización:"
   ]
  },
  {
   "cell_type": "markdown",
   "metadata": {},
   "source": [
    "$$\n",
    "\\begin{array}{cr}\n",
    "\\mbox{minimizar}     & -SR(w)  \\\\\n",
    "\\mbox{sujeto a}     & 0 \\leq w_i \\leq 1, \\ \\ i=1, 2, ..., n \\\\\n",
    "& \\textbf{1}^Tw = 1 \\\\\n",
    "\\end{array} \\\\\n",
    "$$\n",
    "Entonces, calculamos el punto óptimo de nuestro problema de optimización con la libreria <code>scipy</code> teniendo en cuenta las restricciones de que los pesos deben sumar 1 y queremos un portafolio en el que **unicamente compramos**: "
   ]
  },
  {
   "cell_type": "code",
   "execution_count": 10,
   "metadata": {},
   "outputs": [
    {
     "data": {
      "text/plain": [
       "     fun: -0.06627839740052821\n",
       "     jac: array([ 0.00236951, -0.        ,  0.0036351 ,  0.00232562,  0.00507485,\n",
       "        0.00510118])\n",
       " message: 'Optimization terminated successfully'\n",
       "    nfev: 112\n",
       "     nit: 16\n",
       "    njev: 16\n",
       "  status: 0\n",
       " success: True\n",
       "       x: array([0.00000000e+00, 1.00000000e+00, 1.29334954e-17, 2.91433544e-16,\n",
       "       1.22953975e-17, 2.62739620e-17])"
      ]
     },
     "execution_count": 10,
     "metadata": {},
     "output_type": "execute_result"
    }
   ],
   "source": [
    "def sr(w):\n",
    "    return -( np.sum( pBar * w )  / np.sqrt( np.dot( w.T, np.dot(Sigma, w) ) ) )\n",
    "\n",
    "def checkSum(w):\n",
    "    return np.sum(w)-1\n",
    "            \n",
    "w0 = [1/n]*n\n",
    "\n",
    "bounds = tuple([(0, 1) for i in range(n)])\n",
    "constraints = ({'type':'eq', 'fun':checkSum}) \n",
    "\n",
    "w_opt = minimize(sr, w0, method='SLSQP', bounds=bounds, constraints=constraints)\n",
    "w_opt"
   ]
  },
  {
   "cell_type": "markdown",
   "metadata": {},
   "source": [
    "Habiendo hallado el vector de pesos que minimiza el riesgo de nuestro portafolio, si suponemos que tenemos un capital total disponible de **US$100.000**, entonces el vector que nos indica el valor que debemos comprar de cada empresa es:"
   ]
  },
  {
   "cell_type": "code",
   "execution_count": 11,
   "metadata": {},
   "outputs": [
    {
     "name": "stdout",
     "output_type": "stream",
     "text": [
      "Inversión para QQQ: $100000.0\n"
     ]
    }
   ],
   "source": [
    "i = 0\n",
    "for column in returns.columns:\n",
    "    if np.round(w_opt.x[i]*100000) > 1:\n",
    "        print(\"Inversión para {}: ${}\".format(column, np.round(w_opt.x[i]*100000)))\n",
    "    i += 1"
   ]
  }
 ],
 "metadata": {
  "kernelspec": {
   "display_name": "Python 3",
   "language": "python",
   "name": "python3"
  },
  "language_info": {
   "codemirror_mode": {
    "name": "ipython",
    "version": 3
   },
   "file_extension": ".py",
   "mimetype": "text/x-python",
   "name": "python",
   "nbconvert_exporter": "python",
   "pygments_lexer": "ipython3",
   "version": "3.8.8"
  }
 },
 "nbformat": 4,
 "nbformat_minor": 4
}
